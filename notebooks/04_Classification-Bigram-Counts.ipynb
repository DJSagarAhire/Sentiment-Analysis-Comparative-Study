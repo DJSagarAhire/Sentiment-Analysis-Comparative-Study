{
 "metadata": {
  "name": ""
 },
 "nbformat": 3,
 "nbformat_minor": 0,
 "worksheets": [
  {
   "cells": [
    {
     "cell_type": "markdown",
     "metadata": {},
     "source": [
      "##Feature 4: Bigram Counts\n",
      "\n",
      "This feature considers the frequency of two words at a time, i.e. bigrams. The following classification algorithms are covered:\n",
      "\n",
      "<ul>\n",
      "    <li>K-Nearest Neighbours</li>\n",
      "    <li>Naive Bayes</li>\n",
      "    <li>Perceptron</li>\n",
      "    <li>Decision Tree (not viable)</li>\n",
      "    <li>Linear SVM</li>\n",
      "    <li>Stochastic Gradient Descent\n",
      "        <ul>\n",
      "            <li>Hinge Loss</li>\n",
      "            <li>Modified Huber Loss</li>\n",
      "        </ul>\n",
      "    </li>\n",
      "</ul>"
     ]
    },
    {
     "cell_type": "markdown",
     "metadata": {},
     "source": [
      "###Imports"
     ]
    },
    {
     "cell_type": "code",
     "collapsed": false,
     "input": [
      "from sklearn import datasets"
     ],
     "language": "python",
     "metadata": {},
     "outputs": [],
     "prompt_number": 1
    },
    {
     "cell_type": "code",
     "collapsed": false,
     "input": [
      "%pylab inline"
     ],
     "language": "python",
     "metadata": {},
     "outputs": [
      {
       "output_type": "stream",
       "stream": "stdout",
       "text": [
        "Populating the interactive namespace from numpy and matplotlib\n"
       ]
      }
     ],
     "prompt_number": 2
    },
    {
     "cell_type": "markdown",
     "metadata": {},
     "source": [
      "###Initialization\n",
      "\n",
      "The code below loads the appropriate data. First set the appropriate location where the data resides using the `datapath` variable."
     ]
    },
    {
     "cell_type": "code",
     "collapsed": false,
     "input": [
      "# Set the path where the data resides\n",
      "datapath = \"../data/movies-english/\""
     ],
     "language": "python",
     "metadata": {},
     "outputs": [],
     "prompt_number": 3
    },
    {
     "cell_type": "code",
     "collapsed": false,
     "input": [
      "# Load train set\n",
      "train_set_location = \"{0}train\".format(datapath)\n",
      "train_set = datasets.load_files(train_set_location)\n",
      "\n",
      "# Load test set\n",
      "test_set_location = \"{0}test\".format(datapath)\n",
      "test_set = datasets.load_files(test_set_location)"
     ],
     "language": "python",
     "metadata": {},
     "outputs": [],
     "prompt_number": 4
    },
    {
     "cell_type": "markdown",
     "metadata": {},
     "source": [
      "Some verifications:"
     ]
    },
    {
     "cell_type": "code",
     "collapsed": false,
     "input": [
      "# Size of the training set\n",
      "print(len(train_set.data))"
     ],
     "language": "python",
     "metadata": {},
     "outputs": [
      {
       "output_type": "stream",
       "stream": "stdout",
       "text": [
        "2000\n"
       ]
      }
     ],
     "prompt_number": 5
    },
    {
     "cell_type": "code",
     "collapsed": false,
     "input": [
      "# Size of the test set\n",
      "print(len(test_set.data))"
     ],
     "language": "python",
     "metadata": {},
     "outputs": [
      {
       "output_type": "stream",
       "stream": "stdout",
       "text": [
        "1000\n"
       ]
      }
     ],
     "prompt_number": 6
    },
    {
     "cell_type": "code",
     "collapsed": false,
     "input": [
      "# Names of the two categories\n",
      "print(train_set.target_names)\n",
      "print(test_set.target_names)"
     ],
     "language": "python",
     "metadata": {},
     "outputs": [
      {
       "output_type": "stream",
       "stream": "stdout",
       "text": [
        "['neg', 'pos']\n",
        "['neg', 'pos']\n"
       ]
      }
     ],
     "prompt_number": 7
    },
    {
     "cell_type": "code",
     "collapsed": false,
     "input": [
      "# An example train review\n",
      "demo_review_index = 720 # Change to view different reviews\n",
      "print(\"The review is {0}\".format(train_set.target_names[train_set.target[demo_review_index]]))\n",
      "print(train_set.data[demo_review_index])\n",
      "\n",
      "del demo_review_index"
     ],
     "language": "python",
     "metadata": {},
     "outputs": [
      {
       "output_type": "stream",
       "stream": "stdout",
       "text": [
        "The review is pos\n",
        "b\"I had the pleasure of viewing this beautiful film last night, with the wonderful addition of a question and answer session with the director following the viewing. I suspect that the first commenter has never lost a parent or someone very close to them in death. I have had many such losses, and this movie spoke to me. One of the major themes is how we don't deal with questions/issues/stories with our loved ones until it's too late--they're too incapacitated or dead before that happens. Talk to your loved ones, listen to and record their stories, tell people you love them, resolve differences. I loved the message that there are no mistakes. I love the director's portrayal of the relationship of the two daughters--as one of six siblings, it's clear to me he understood how complex those relationships are. His history as a cinematographer also comes through loud and clear--what a beautiful movie! The casting is outstanding--a film not to be missed!\"\n"
       ]
      }
     ],
     "prompt_number": 8
    },
    {
     "cell_type": "markdown",
     "metadata": {},
     "source": [
      "###Data Transformation\n",
      "\n",
      "The following code transforms the documents into feature vectors depending on whether a particular word occurs in the document or not. The `CountVectorizer` from the `sklearn.feature_extraction.text` package is used for this purpose. In order for `CountVectorizer` to consider bigrams, the `ngram_range` parameter is set to `(2,2)`, i.e. the minimum and maximum value of 'n' for n-gram modeling are both 2."
     ]
    },
    {
     "cell_type": "code",
     "collapsed": false,
     "input": [
      "from sklearn.feature_extraction.text import CountVectorizer"
     ],
     "language": "python",
     "metadata": {},
     "outputs": [],
     "prompt_number": 9
    },
    {
     "cell_type": "code",
     "collapsed": false,
     "input": [
      "# Create the vectorizer\n",
      "bigram_count_vectorizer = CountVectorizer(ngram_range=(2,2))\n",
      "\n",
      "# Fit training data and transform appropriately\n",
      "bigram_train_X = bigram_count_vectorizer.fit_transform(train_set.data)\n",
      "bigram_train_y = train_set.target\n",
      "\n",
      "# Transform test data according to learnt training vocabulary\n",
      "bigram_test_X = bigram_count_vectorizer.transform(test_set.data)\n",
      "bigram_test_y = test_set.target"
     ],
     "language": "python",
     "metadata": {},
     "outputs": [],
     "prompt_number": 10
    },
    {
     "cell_type": "code",
     "collapsed": false,
     "input": [
      "print(\"Length of feature vector: {0}\".format(bigram_train_X.shape[1]))"
     ],
     "language": "python",
     "metadata": {},
     "outputs": [
      {
       "output_type": "stream",
       "stream": "stdout",
       "text": [
        "Length of feature vector: 209871\n"
       ]
      }
     ],
     "prompt_number": 11
    },
    {
     "cell_type": "markdown",
     "metadata": {},
     "source": [
      "###Function Setup\n",
      "\n",
      "The following code sets up a function to perform classification. It accepts an estimator object and calls the `fit()` method of that object to learn the training data, and then the `predict()` method, supplying the test data as a parameter. The predicted vectors for the test data are returned."
     ]
    },
    {
     "cell_type": "code",
     "collapsed": false,
     "input": [
      "def classify(classifier):\n",
      "    classifier.fit(bigram_train_X, bigram_train_y)\n",
      "    predicted_y = classifier.predict(bigram_test_X)\n",
      "    \n",
      "    return predicted_y\n",
      "\n",
      "def select_classify(classifier, k):\n",
      "    \n",
      "    # First select\n",
      "    from sklearn.feature_selection import chi2, SelectKBest\n",
      "    selector = SelectKBest(chi2, k)\n",
      "    bigram_seltrain_X = selector.fit_transform(bigram_train_X, bigram_train_y)\n",
      "    \n",
      "    classifier.fit(bigram_seltrain_X, bigram_train_y)\n",
      "    predicted_y = classifier.predict(selector.transform(bigram_test_X))\n",
      "    \n",
      "    return predicted_y"
     ],
     "language": "python",
     "metadata": {},
     "outputs": [],
     "prompt_number": 12
    },
    {
     "cell_type": "markdown",
     "metadata": {},
     "source": [
      "The code below now sets up a function to calculate accuracy values and report the same for the last performed classification."
     ]
    },
    {
     "cell_type": "code",
     "collapsed": false,
     "input": [
      "def accuracy():\n",
      "    from sklearn.metrics import accuracy_score, confusion_matrix, classification_report\n",
      "\n",
      "    acc = accuracy_score(bigram_test_y, bigram_predict_y) * 100\n",
      "    print(\"Accuracy: {0}%\".format(acc))\n",
      "    print(classification_report(bigram_test_y, bigram_predict_y, target_names=test_set.target_names))\n",
      "    \n",
      "    return acc"
     ],
     "language": "python",
     "metadata": {},
     "outputs": [],
     "prompt_number": 13
    },
    {
     "cell_type": "markdown",
     "metadata": {},
     "source": [
      "The code below sets up a function to evaluate a classifier's performance depending on the number of features supplied to it. It creates a plot of features vs. accuracy out of repeated runs of the supplied classifier."
     ]
    },
    {
     "cell_type": "code",
     "collapsed": false,
     "input": [
      "def compare_feature_performance(classifier, classifier_name='Classifier'):\n",
      "    \n",
      "    from sklearn.metrics import accuracy_score\n",
      "    accuracies = []\n",
      "    kvals = logspace(1, 17, num=17, base=2.0)  # k = 2, 4, 8, 16, ...\n",
      "    kvals = append(kvals, [bigram_train_X.shape[1]])\n",
      "    for k in kvals:\n",
      "        bigram_predict_y = select_classify(classifier, k)\n",
      "        accuracies.append(accuracy_score(bigram_test_y, bigram_predict_y) * 100)\n",
      "    \n",
      "    plot(kvals, accuracies)\n",
      "    xscale('log')\n",
      "    xlim([0, bigram_train_X.shape[1]])\n",
      "    xlabel('Number of features')\n",
      "    ylabel('Accuracy (%)')\n",
      "    title('{0} Behaviour with Different no of Features'.format(classifier_name))"
     ],
     "language": "python",
     "metadata": {},
     "outputs": [],
     "prompt_number": 14
    },
    {
     "cell_type": "markdown",
     "metadata": {},
     "source": [
      "###Classifier 1: K-Nearest Neighbours"
     ]
    },
    {
     "cell_type": "markdown",
     "metadata": {},
     "source": [
      "We now train and use the KNN classifier."
     ]
    },
    {
     "cell_type": "code",
     "collapsed": false,
     "input": [
      "from sklearn.neighbors import KNeighborsClassifier\n",
      "\n",
      "bigram_knn = KNeighborsClassifier()\n",
      "bigram_predict_y = classify(bigram_knn)"
     ],
     "language": "python",
     "metadata": {},
     "outputs": [],
     "prompt_number": 15
    },
    {
     "cell_type": "code",
     "collapsed": false,
     "input": [
      "bigram_knn_accuracy = accuracy()"
     ],
     "language": "python",
     "metadata": {},
     "outputs": [
      {
       "output_type": "stream",
       "stream": "stdout",
       "text": [
        "Accuracy: 48.8%\n",
        "             precision    recall  f1-score   support\n",
        "\n",
        "        neg       0.48      0.26      0.34       500\n",
        "        pos       0.49      0.72      0.58       500\n",
        "\n",
        "avg / total       0.48      0.49      0.46      1000\n",
        "\n"
       ]
      }
     ],
     "prompt_number": 16
    },
    {
     "cell_type": "code",
     "collapsed": false,
     "input": [
      "from sklearn.neighbors import KNeighborsClassifier\n",
      "\n",
      "bigram_knn = KNeighborsClassifier()\n",
      "\n",
      "compare_feature_performance(bigram_knn, 'K-Nearest Neighbour Classifier')"
     ],
     "language": "python",
     "metadata": {},
     "outputs": [
      {
       "metadata": {},
       "output_type": "display_data",
       "png": "[encoded data removed]",
       "text": [
        "<matplotlib.figure.Figure at 0x7fe3cb81a790>"
       ]
      }
     ],
     "prompt_number": 18
    },
    {
     "cell_type": "markdown",
     "metadata": {},
     "source": [
      "Using the default number of features, the performance actually deteriorated *below* chance level. However, the general behaviour of the KNN classifier is similar to unigram and bigram presence (but not unigram counts). The best accuracy is attained at about 100 features, again similarly to the unigram and bigram presence features."
     ]
    },
    {
     "cell_type": "markdown",
     "metadata": {},
     "source": [
      "An additional experiment: setting the number of features at 100, we vary the value of $k$."
     ]
    },
    {
     "cell_type": "code",
     "collapsed": false,
     "input": [
      "from sklearn.neighbors import KNeighborsClassifier\n",
      "from sklearn.metrics import accuracy_score\n",
      "\n",
      "kvals = range(1, 400, 6)\n",
      "accuracies = []\n",
      "\n",
      "for k in kvals:\n",
      "    bigram_knn = KNeighborsClassifier(k)\n",
      "    bigram_predict_y = select_classify(bigram_knn, 100)\n",
      "    accuracies.append(accuracy_score(bigram_test_y, bigram_predict_y) * 100)\n",
      "    \n",
      "plot(kvals, accuracies)\n",
      "xlabel('k')\n",
      "ylabel('Accuracy (%)')\n",
      "title('K-Nearest Classifier Behaviour with Different Values of k')"
     ],
     "language": "python",
     "metadata": {},
     "outputs": [
      {
       "metadata": {},
       "output_type": "pyout",
       "prompt_number": 19,
       "text": [
        "<matplotlib.text.Text at 0x7fe3cc517250>"
       ]
      },
      {
       "metadata": {},
       "output_type": "display_data",
       "png": "[encoded data removed]",
       "text": [
        "<matplotlib.figure.Figure at 0x7fe3cb3f9090>"
       ]
      }
     ],
     "prompt_number": 19
    },
    {
     "cell_type": "markdown",
     "metadata": {},
     "source": [
      "The performance of KNN seems to linearly decrease as more documents are added to the comparison. The best value is obtained at around $k=25$."
     ]
    },
    {
     "cell_type": "markdown",
     "metadata": {},
     "source": [
      "Thus we calculate a final number for accuracy at $k=25$ with 100 features."
     ]
    },
    {
     "cell_type": "code",
     "collapsed": false,
     "input": [
      "from sklearn.neighbors import KNeighborsClassifier\n",
      "\n",
      "bigram_knn = KNeighborsClassifier(25)\n",
      "bigram_predict_y = select_classify(bigram_knn, 100)\n",
      "\n",
      "bigram_knn_accuracy = accuracy()"
     ],
     "language": "python",
     "metadata": {},
     "outputs": [
      {
       "output_type": "stream",
       "stream": "stdout",
       "text": [
        "Accuracy: 60.5%\n",
        "             precision    recall  f1-score   support\n",
        "\n",
        "        neg       0.58      0.80      0.67       500\n",
        "        pos       0.67      0.41      0.51       500\n",
        "\n",
        "avg / total       0.62      0.60      0.59      1000\n",
        "\n"
       ]
      }
     ],
     "prompt_number": 27
    },
    {
     "cell_type": "markdown",
     "metadata": {},
     "source": [
      "This value is extremely low. Going just by KNN, it would seem that bigram counts is a bad idea for a feature vector."
     ]
    },
    {
     "cell_type": "markdown",
     "metadata": {},
     "source": [
      "###Classifier 2: Naive Bayes"
     ]
    },
    {
     "cell_type": "markdown",
     "metadata": {},
     "source": [
      "We now train and use the Multinomial Naive Bayes classifier."
     ]
    },
    {
     "cell_type": "code",
     "collapsed": false,
     "input": [
      "from sklearn.naive_bayes import MultinomialNB\n",
      "\n",
      "bigram_nb = MultinomialNB()\n",
      "bigram_predict_y = classify(bigram_nb)"
     ],
     "language": "python",
     "metadata": {},
     "outputs": [],
     "prompt_number": 28
    },
    {
     "cell_type": "code",
     "collapsed": false,
     "input": [
      "bigram_nb_accuracy = accuracy()"
     ],
     "language": "python",
     "metadata": {},
     "outputs": [
      {
       "output_type": "stream",
       "stream": "stdout",
       "text": [
        "Accuracy: 81.2%\n",
        "             precision    recall  f1-score   support\n",
        "\n",
        "        neg       0.78      0.86      0.82       500\n",
        "        pos       0.85      0.76      0.80       500\n",
        "\n",
        "avg / total       0.81      0.81      0.81      1000\n",
        "\n"
       ]
      }
     ],
     "prompt_number": 29
    },
    {
     "cell_type": "code",
     "collapsed": false,
     "input": [
      "from sklearn.naive_bayes import MultinomialNB\n",
      "\n",
      "bigram_nb = MultinomialNB()\n",
      "\n",
      "compare_feature_performance(bigram_nb, 'Naive Bayes Classifier')"
     ],
     "language": "python",
     "metadata": {},
     "outputs": [
      {
       "metadata": {},
       "output_type": "display_data",
       "png": "[encoded data removed]",
       "text": [
        "<matplotlib.figure.Figure at 0x7fe3cc36ae50>"
       ]
      }
     ],
     "prompt_number": 30
    },
    {
     "cell_type": "markdown",
     "metadata": {},
     "source": [
      "The behaviour here is similar to unigram counts rather than bigram presence. The performance keeps improving as more features are added."
     ]
    },
    {
     "cell_type": "markdown",
     "metadata": {},
     "source": [
      "As a result, the best accuracy for Naive Bayes is the initial value."
     ]
    },
    {
     "cell_type": "markdown",
     "metadata": {},
     "source": [
      "###Classifier 3: Perceptron"
     ]
    },
    {
     "cell_type": "code",
     "collapsed": false,
     "input": [
      "from sklearn.linear_model import Perceptron\n",
      "\n",
      "bigram_perceptron = Perceptron()\n",
      "bigram_predict_y = classify(bigram_perceptron)"
     ],
     "language": "python",
     "metadata": {},
     "outputs": [],
     "prompt_number": 31
    },
    {
     "cell_type": "code",
     "collapsed": false,
     "input": [
      "bigram_perceptron_accuracy = accuracy()"
     ],
     "language": "python",
     "metadata": {},
     "outputs": [
      {
       "output_type": "stream",
       "stream": "stdout",
       "text": [
        "Accuracy: 72.2%\n",
        "             precision    recall  f1-score   support\n",
        "\n",
        "        neg       0.78      0.61      0.69       500\n",
        "        pos       0.68      0.83      0.75       500\n",
        "\n",
        "avg / total       0.73      0.72      0.72      1000\n",
        "\n"
       ]
      }
     ],
     "prompt_number": 32
    },
    {
     "cell_type": "code",
     "collapsed": false,
     "input": [
      "from sklearn.linear_model import Perceptron\n",
      "\n",
      "bigram_perceptron = Perceptron()\n",
      "\n",
      "compare_feature_performance(bigram_perceptron, 'Perceptron Classifier')"
     ],
     "language": "python",
     "metadata": {},
     "outputs": [
      {
       "metadata": {},
       "output_type": "display_data",
       "png": "[encoded data removed]",
       "text": [
        "<matplotlib.figure.Figure at 0x7fe3cbefef10>"
       ]
      }
     ],
     "prompt_number": 33
    },
    {
     "cell_type": "markdown",
     "metadata": {},
     "source": [
      "The performance of the perceptron shows initial growth as more features are added, but towards the end slumps a bit, as has been an observed trend for some of the other feature choices too."
     ]
    },
    {
     "cell_type": "markdown",
     "metadata": {},
     "source": [
      "We calculate the final perceptron accuracy at 5000 features."
     ]
    },
    {
     "cell_type": "code",
     "collapsed": false,
     "input": [
      "from sklearn.linear_model import Perceptron\n",
      "\n",
      "bigram_perceptron = Perceptron()\n",
      "bigram_predict_y = select_classify(bigram_perceptron, 5000)\n",
      "\n",
      "bigram_perceptron_accuracy = accuracy()"
     ],
     "language": "python",
     "metadata": {},
     "outputs": [
      {
       "output_type": "stream",
       "stream": "stdout",
       "text": [
        "Accuracy: 75.2%\n",
        "             precision    recall  f1-score   support\n",
        "\n",
        "        neg       0.74      0.78      0.76       500\n",
        "        pos       0.76      0.73      0.75       500\n",
        "\n",
        "avg / total       0.75      0.75      0.75      1000\n",
        "\n"
       ]
      }
     ],
     "prompt_number": 35
    },
    {
     "cell_type": "markdown",
     "metadata": {},
     "source": [
      "###Classifier 4: Decision Tree"
     ]
    },
    {
     "cell_type": "markdown",
     "metadata": {},
     "source": [
      "The decision tree is unfeasible for large feature spaces. <sup>[citation needed]</sup>"
     ]
    },
    {
     "cell_type": "markdown",
     "metadata": {},
     "source": [
      "###Classifier 5: SVM"
     ]
    },
    {
     "cell_type": "code",
     "collapsed": false,
     "input": [
      "from sklearn.svm import LinearSVC\n",
      "\n",
      "bigram_linsvm = LinearSVC()\n",
      "bigram_predict_y = classify(bigram_linsvm)"
     ],
     "language": "python",
     "metadata": {},
     "outputs": [],
     "prompt_number": 36
    },
    {
     "cell_type": "code",
     "collapsed": false,
     "input": [
      "bigram_linsvm_accuracy = accuracy()"
     ],
     "language": "python",
     "metadata": {},
     "outputs": [
      {
       "output_type": "stream",
       "stream": "stdout",
       "text": [
        "Accuracy: 79.7%\n",
        "             precision    recall  f1-score   support\n",
        "\n",
        "        neg       0.78      0.82      0.80       500\n",
        "        pos       0.81      0.77      0.79       500\n",
        "\n",
        "avg / total       0.80      0.80      0.80      1000\n",
        "\n"
       ]
      }
     ],
     "prompt_number": 37
    },
    {
     "cell_type": "code",
     "collapsed": false,
     "input": [
      "from sklearn.svm import LinearSVC\n",
      "\n",
      "bigram_linsvm = LinearSVC()\n",
      "\n",
      "compare_feature_performance(bigram_linsvm, 'SVM Classifier')"
     ],
     "language": "python",
     "metadata": {},
     "outputs": [
      {
       "metadata": {},
       "output_type": "display_data",
       "png": "[encoded data removed]",
       "text": [
        "<matplotlib.figure.Figure at 0x7fe3cb2e5f50>"
       ]
      }
     ],
     "prompt_number": 38
    },
    {
     "cell_type": "markdown",
     "metadata": {},
     "source": [
      "SVM continues to consistently improve as more features are added."
     ]
    },
    {
     "cell_type": "markdown",
     "metadata": {},
     "source": [
      "As a result, the final accuracy for SVM is the same as the initial value."
     ]
    },
    {
     "cell_type": "markdown",
     "metadata": {},
     "source": [
      "###Classifier 6: Stochastic Gradient Descent"
     ]
    },
    {
     "cell_type": "markdown",
     "metadata": {},
     "source": [
      "####a) Stochastic Gradient Descent with Hinge Loss\n",
      "This is the loss function used by linear SVM."
     ]
    },
    {
     "cell_type": "code",
     "collapsed": false,
     "input": [
      "from sklearn.linear_model import SGDClassifier\n",
      "\n",
      "bigram_sgd_hinge = SGDClassifier(shuffle=True)\n",
      "bigram_predict_y = classify(bigram_sgd_hinge)"
     ],
     "language": "python",
     "metadata": {},
     "outputs": [],
     "prompt_number": 41
    },
    {
     "cell_type": "code",
     "collapsed": false,
     "input": [
      "bigram_sgd_hinge_accuracy = accuracy()"
     ],
     "language": "python",
     "metadata": {},
     "outputs": [
      {
       "output_type": "stream",
       "stream": "stdout",
       "text": [
        "Accuracy: 73.9%\n",
        "             precision    recall  f1-score   support\n",
        "\n",
        "        neg       0.69      0.86      0.77       500\n",
        "        pos       0.81      0.62      0.70       500\n",
        "\n",
        "avg / total       0.75      0.74      0.74      1000\n",
        "\n"
       ]
      }
     ],
     "prompt_number": 42
    },
    {
     "cell_type": "code",
     "collapsed": false,
     "input": [
      "from sklearn.linear_model import SGDClassifier\n",
      "\n",
      "bigram_sgd_hinge = SGDClassifier(shuffle=True)\n",
      "\n",
      "compare_feature_performance(bigram_sgd_hinge, 'Hinge Loss SGD Classifier')"
     ],
     "language": "python",
     "metadata": {},
     "outputs": [
      {
       "metadata": {},
       "output_type": "display_data",
       "png": "[encoded data removed]",
       "text": [
        "<matplotlib.figure.Figure at 0x7fe3cc343350>"
       ]
      }
     ],
     "prompt_number": 44
    },
    {
     "cell_type": "markdown",
     "metadata": {},
     "source": [
      "Like bigram presence, the plot shows a general trend of improvement in performance with additional features."
     ]
    },
    {
     "cell_type": "markdown",
     "metadata": {},
     "source": [
      "As a result, the final accuracy stays unchanged."
     ]
    },
    {
     "cell_type": "markdown",
     "metadata": {},
     "source": [
      "####b) Stochastic Gradient Descent with Modified Huber Loss\n",
      "This is a smoothed version of hinge loss."
     ]
    },
    {
     "cell_type": "code",
     "collapsed": false,
     "input": [
      "from sklearn.linear_model import SGDClassifier\n",
      "\n",
      "bigram_sgd_huber = SGDClassifier(loss='modified_huber', shuffle=True)\n",
      "bigram_predict_y = classify(bigram_sgd_huber)"
     ],
     "language": "python",
     "metadata": {},
     "outputs": [],
     "prompt_number": 45
    },
    {
     "cell_type": "code",
     "collapsed": false,
     "input": [
      "bigram_sgd_huber_accuracy = accuracy()"
     ],
     "language": "python",
     "metadata": {},
     "outputs": [
      {
       "output_type": "stream",
       "stream": "stdout",
       "text": [
        "Accuracy: 73.9%\n",
        "             precision    recall  f1-score   support\n",
        "\n",
        "        neg       0.75      0.73      0.74       500\n",
        "        pos       0.73      0.75      0.74       500\n",
        "\n",
        "avg / total       0.74      0.74      0.74      1000\n",
        "\n"
       ]
      }
     ],
     "prompt_number": 46
    },
    {
     "cell_type": "code",
     "collapsed": false,
     "input": [
      "from sklearn.linear_model import SGDClassifier\n",
      "\n",
      "bigram_sgd_huber = SGDClassifier(loss='modified_huber', shuffle=True)\n",
      "\n",
      "compare_feature_performance(bigram_sgd_huber, 'Huber SGD Classifier')"
     ],
     "language": "python",
     "metadata": {},
     "outputs": [
      {
       "metadata": {},
       "output_type": "display_data",
       "png": "[encoded data removed]",
       "text": [
        "<matplotlib.figure.Figure at 0x7fe3cc4c14d0>"
       ]
      }
     ],
     "prompt_number": 47
    },
    {
     "cell_type": "markdown",
     "metadata": {},
     "source": [
      "The behaviour is, once again, similar to the SVM and the hinge loss SGD. Hence the accuracy remains unchanged."
     ]
    },
    {
     "cell_type": "markdown",
     "metadata": {},
     "source": [
      "A comparison of the final accuracies of the various algorithms can be seen in the graph below."
     ]
    },
    {
     "cell_type": "code",
     "collapsed": false,
     "input": [
      "names = ['KNN', 'NB', 'Perceptron', 'SVM', 'SGD-Hinge', 'SGD-Huber']\n",
      "accuracies = [bigram_knn_accuracy, bigram_nb_accuracy, bigram_perceptron_accuracy, bigram_linsvm_accuracy, bigram_sgd_hinge_accuracy, bigram_sgd_huber_accuracy]\n",
      "\n",
      "bar(arange(0.25, 6.25), accuracies, width=0.5)\n",
      "xticks(arange(0.5,7.5), names)\n",
      "xlabel('Algorithm')\n",
      "ylabel('Accuracy %')\n",
      "title('Algorithm Comparison for Bigram Presence')"
     ],
     "language": "python",
     "metadata": {},
     "outputs": [
      {
       "metadata": {},
       "output_type": "pyout",
       "prompt_number": 48,
       "text": [
        "<matplotlib.text.Text at 0x7fe3cbcb8590>"
       ]
      },
      {
       "metadata": {},
       "output_type": "display_data",
       "png": "[encoded data removed]",
       "text": [
        "<matplotlib.figure.Figure at 0x7fe3cb301c10>"
       ]
      }
     ],
     "prompt_number": 48
    }
   ],
   "metadata": {}
  }
 ]
}