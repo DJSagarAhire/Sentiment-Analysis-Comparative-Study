{
 "metadata": {
  "name": "03_Classification-Bigram-Presence"
 },
 "nbformat": 3,
 "nbformat_minor": 0,
 "worksheets": [
  {
   "cells": [
    {
     "cell_type": "markdown",
     "metadata": {},
     "source": [
      "##Feature 3: Bigram Presence\n",
      "\n",
      "This feature considers the presence/absence of two words at a time, i.e. bigrams. The following classification algorithms are covered:\n",
      "\n",
      "<ul>\n",
      "    <li>K-Nearest Neighbours</li>\n",
      "    <li>Naive Bayes</li>\n",
      "    <li>Perceptron</li>\n",
      "    <li>Decision Tree</li>\n",
      "    <li>Linear SVM</li>\n",
      "    <li>Stochastic Gradient Descent\n",
      "        <ul>\n",
      "            <li>Hinge Loss</li>\n",
      "            <li>Modified Huber Loss</li>\n",
      "        </ul>\n",
      "    </li>\n",
      "</ul>"
     ]
    },
    {
     "cell_type": "markdown",
     "metadata": {},
     "source": [
      "###Imports"
     ]
    },
    {
     "cell_type": "code",
     "collapsed": false,
     "input": [
      "from sklearn import datasets"
     ],
     "language": "python",
     "metadata": {},
     "outputs": [],
     "prompt_number": 1
    },
    {
     "cell_type": "code",
     "collapsed": false,
     "input": [
      "%pylab inline"
     ],
     "language": "python",
     "metadata": {},
     "outputs": [
      {
       "output_type": "stream",
       "stream": "stdout",
       "text": [
        "\n",
        "Welcome to pylab, a matplotlib-based Python environment [backend: module://IPython.zmq.pylab.backend_inline].\n",
        "For more information, type 'help(pylab)'.\n"
       ]
      }
     ],
     "prompt_number": 2
    },
    {
     "cell_type": "markdown",
     "metadata": {},
     "source": [
      "###Initialization\n",
      "\n",
      "The code below loads the appropriate data. First set the appropriate location where the data resides using the `datapath` variable."
     ]
    },
    {
     "cell_type": "code",
     "collapsed": false,
     "input": [
      "# Set the path where the data resides\n",
      "datapath = \"../data/movies-english/\""
     ],
     "language": "python",
     "metadata": {},
     "outputs": [],
     "prompt_number": 3
    },
    {
     "cell_type": "code",
     "collapsed": false,
     "input": [
      "# Load train set\n",
      "train_set_location = \"{0}train\".format(datapath)\n",
      "train_set = datasets.load_files(train_set_location)\n",
      "\n",
      "# Load test set\n",
      "test_set_location = \"{0}test\".format(datapath)\n",
      "test_set = datasets.load_files(test_set_location)"
     ],
     "language": "python",
     "metadata": {},
     "outputs": [],
     "prompt_number": 4
    },
    {
     "cell_type": "markdown",
     "metadata": {},
     "source": [
      "Some verifications:"
     ]
    },
    {
     "cell_type": "code",
     "collapsed": false,
     "input": [
      "# Size of the training set\n",
      "print(len(train_set.data))"
     ],
     "language": "python",
     "metadata": {},
     "outputs": [
      {
       "output_type": "stream",
       "stream": "stdout",
       "text": [
        "2000\n"
       ]
      }
     ],
     "prompt_number": 5
    },
    {
     "cell_type": "code",
     "collapsed": false,
     "input": [
      "# Size of the test set\n",
      "print(len(test_set.data))"
     ],
     "language": "python",
     "metadata": {},
     "outputs": [
      {
       "output_type": "stream",
       "stream": "stdout",
       "text": [
        "1000\n"
       ]
      }
     ],
     "prompt_number": 6
    },
    {
     "cell_type": "code",
     "collapsed": false,
     "input": [
      "# Names of the two categories\n",
      "print(train_set.target_names)\n",
      "print(test_set.target_names)"
     ],
     "language": "python",
     "metadata": {},
     "outputs": [
      {
       "output_type": "stream",
       "stream": "stdout",
       "text": [
        "['neg', 'pos']\n",
        "['neg', 'pos']\n"
       ]
      }
     ],
     "prompt_number": 7
    },
    {
     "cell_type": "code",
     "collapsed": false,
     "input": [
      "# An example train review\n",
      "demo_review_index = 720 # Change to view different reviews\n",
      "print(\"The review is {0}\".format(train_set.target_names[train_set.target[demo_review_index]]))\n",
      "print(train_set.data[demo_review_index])\n",
      "\n",
      "del demo_review_index"
     ],
     "language": "python",
     "metadata": {},
     "outputs": [
      {
       "output_type": "stream",
       "stream": "stdout",
       "text": [
        "The review is pos\n",
        "b\"I had the pleasure of viewing this beautiful film last night, with the wonderful addition of a question and answer session with the director following the viewing. I suspect that the first commenter has never lost a parent or someone very close to them in death. I have had many such losses, and this movie spoke to me. One of the major themes is how we don't deal with questions/issues/stories with our loved ones until it's too late--they're too incapacitated or dead before that happens. Talk to your loved ones, listen to and record their stories, tell people you love them, resolve differences. I loved the message that there are no mistakes. I love the director's portrayal of the relationship of the two daughters--as one of six siblings, it's clear to me he understood how complex those relationships are. His history as a cinematographer also comes through loud and clear--what a beautiful movie! The casting is outstanding--a film not to be missed!\"\n"
       ]
      }
     ],
     "prompt_number": 8
    },
    {
     "cell_type": "markdown",
     "metadata": {},
     "source": [
      "###Data Transformation\n",
      "\n",
      "The following code transforms the documents into feature vectors depending on whether a particular word occurs in the document or not. The `CountVectorizer` from the `sklearn.feature_extraction.text` package is used for this purpose with the parameter `binary=True` (so that only presence/absence is considered while counts themselves are ignored). In order for `CountVectorizer` to consider bigrams, the `ngram_range` parameter is set to `(2,2)`, i.e. the minimum and maximum value of 'n' for n-gram modeling are both 2."
     ]
    },
    {
     "cell_type": "code",
     "collapsed": false,
     "input": [
      "from sklearn.feature_extraction.text import CountVectorizer"
     ],
     "language": "python",
     "metadata": {},
     "outputs": [],
     "prompt_number": 9
    },
    {
     "cell_type": "code",
     "collapsed": false,
     "input": [
      "# Create the vectorizer\n",
      "bigram_presence_vectorizer = CountVectorizer(binary=True, ngram_range=(2,2))\n",
      "\n",
      "# Fit training data and transform appropriately\n",
      "bigram_train_X = bigram_presence_vectorizer.fit_transform(train_set.data)\n",
      "bigram_train_y = train_set.target\n",
      "\n",
      "# Transform test data according to learnt training vocabulary\n",
      "bigram_test_X = bigram_presence_vectorizer.transform(test_set.data)\n",
      "bigram_test_y = test_set.target"
     ],
     "language": "python",
     "metadata": {},
     "outputs": [],
     "prompt_number": 10
    },
    {
     "cell_type": "code",
     "collapsed": false,
     "input": [
      "print(\"Length of feature vector: {0}\".format(bigram_train_X.shape[1]))"
     ],
     "language": "python",
     "metadata": {},
     "outputs": [
      {
       "output_type": "stream",
       "stream": "stdout",
       "text": [
        "Length of feature vector: 209871\n"
       ]
      }
     ],
     "prompt_number": 11
    },
    {
     "cell_type": "markdown",
     "metadata": {},
     "source": [
      "###Function Setup\n",
      "\n",
      "The following code sets up a function to perform classification. It accepts an estimator object and calls the `fit()` method of that object to learn the training data, and then the `predict()` method, supplying the test data as a parameter. The predicted vectors for the test data are returned."
     ]
    },
    {
     "cell_type": "code",
     "collapsed": false,
     "input": [
      "def classify(classifier):\n",
      "    classifier.fit(bigram_train_X, bigram_train_y)\n",
      "    predicted_y = classifier.predict(bigram_test_X)\n",
      "    \n",
      "    return predicted_y\n",
      "\n",
      "def select_classify(classifier, k):\n",
      "    \n",
      "    # First select\n",
      "    from sklearn.feature_selection import chi2, SelectKBest\n",
      "    selector = SelectKBest(chi2, k)\n",
      "    bigram_seltrain_X = selector.fit_transform(bigram_train_X, bigram_train_y)\n",
      "    \n",
      "    classifier.fit(bigram_seltrain_X, bigram_train_y)\n",
      "    predicted_y = classifier.predict(selector.transform(bigram_test_X))\n",
      "    \n",
      "    return predicted_y"
     ],
     "language": "python",
     "metadata": {},
     "outputs": [],
     "prompt_number": 12
    },
    {
     "cell_type": "markdown",
     "metadata": {},
     "source": [
      "The code below now sets up a function to calculate accuracy values and report the same for the last performed classification."
     ]
    },
    {
     "cell_type": "code",
     "collapsed": false,
     "input": [
      "def accuracy():\n",
      "    from sklearn.metrics import accuracy_score, confusion_matrix, classification_report\n",
      "\n",
      "    acc = accuracy_score(bigram_test_y, bigram_predict_y) * 100\n",
      "    print(\"Accuracy: {0}%\".format(acc))\n",
      "    print(classification_report(bigram_test_y, bigram_predict_y, target_names=test_set.target_names))\n",
      "    \n",
      "    return acc"
     ],
     "language": "python",
     "metadata": {},
     "outputs": [],
     "prompt_number": 13
    },
    {
     "cell_type": "markdown",
     "metadata": {},
     "source": [
      "The code below sets up a function to evaluate a classifier's performance depending on the number of features supplied to it. It creates a plot of features vs. accuracy out of repeated runs of the supplied classifier."
     ]
    },
    {
     "cell_type": "code",
     "collapsed": false,
     "input": [
      "def compare_feature_performance(classifier, classifier_name='Classifier'):\n",
      "    \n",
      "    from sklearn.metrics import accuracy_score\n",
      "    accuracies = []\n",
      "    kvals = logspace(1, 17, num=17, base=2.0)  # k = 2, 4, 8, 16, ...\n",
      "    kvals = append(kvals, [bigram_train_X.shape[1]])\n",
      "    for k in kvals:\n",
      "        bigram_predict_y = select_classify(classifier, k)\n",
      "        accuracies.append(accuracy_score(bigram_test_y, bigram_predict_y) * 100)\n",
      "    \n",
      "    plot(kvals, accuracies)\n",
      "    xscale('log')\n",
      "    xlim([0, bigram_train_X.shape[1]])\n",
      "    xlabel('Number of features')\n",
      "    ylabel('Accuracy (%)')\n",
      "    title('{0} Behaviour with Different no of Features'.format(classifier_name))"
     ],
     "language": "python",
     "metadata": {},
     "outputs": [],
     "prompt_number": 14
    },
    {
     "cell_type": "markdown",
     "metadata": {},
     "source": [
      "###Classifier 1: K-Nearest Neighbours"
     ]
    },
    {
     "cell_type": "markdown",
     "metadata": {},
     "source": [
      "We now train and use the KNN classifier."
     ]
    },
    {
     "cell_type": "code",
     "collapsed": false,
     "input": [
      "from sklearn.neighbors import KNeighborsClassifier\n",
      "\n",
      "bigram_knn = KNeighborsClassifier()\n",
      "bigram_predict_y = classify(bigram_knn)"
     ],
     "language": "python",
     "metadata": {},
     "outputs": [],
     "prompt_number": 15
    },
    {
     "cell_type": "code",
     "collapsed": false,
     "input": [
      "bigram_knn_accuracy = accuracy()"
     ],
     "language": "python",
     "metadata": {},
     "outputs": [
      {
       "output_type": "stream",
       "stream": "stdout",
       "text": [
        "Accuracy: 50.0%\n",
        "             precision    recall  f1-score   support\n",
        "\n",
        "        neg       0.00      0.00      0.00       500\n",
        "        pos       0.50      1.00      0.67       500\n",
        "\n",
        "avg / total       0.25      0.50      0.33      1000\n",
        "\n"
       ]
      }
     ],
     "prompt_number": 17
    },
    {
     "cell_type": "code",
     "collapsed": false,
     "input": [
      "from sklearn.neighbors import KNeighborsClassifier\n",
      "\n",
      "bigram_knn = KNeighborsClassifier()\n",
      "\n",
      "compare_feature_performance(bigram_knn, 'K-Nearest Neighbour Classifier')"
     ],
     "language": "python",
     "metadata": {},
     "outputs": [
      {
       "output_type": "display_data",
       "png": "[encoded data removed]"
      }
     ],
     "prompt_number": 19
    },
    {
     "cell_type": "markdown",
     "metadata": {},
     "source": [
      "Using the default full number of features every review was classified as positive, thus reducing the performance to mere chance. This improved upon feature selection, however, with the best performance attained at about 100 features, similarly to unigram presence."
     ]
    },
    {
     "cell_type": "markdown",
     "metadata": {},
     "source": [
      "An additional experiment: setting the number of features at 100, we vary the value of $k$."
     ]
    },
    {
     "cell_type": "code",
     "collapsed": false,
     "input": [
      "from sklearn.neighbors import KNeighborsClassifier\n",
      "from sklearn.metrics import accuracy_score\n",
      "\n",
      "kvals = range(1, 400, 6)\n",
      "accuracies = []\n",
      "\n",
      "for k in kvals:\n",
      "    bigram_knn = KNeighborsClassifier(k)\n",
      "    bigram_predict_y = select_classify(bigram_knn, 100)\n",
      "    accuracies.append(accuracy_score(bigram_test_y, bigram_predict_y) * 100)\n",
      "    \n",
      "plot(kvals, accuracies)\n",
      "xlabel('k')\n",
      "ylabel('Accuracy (%)')\n",
      "title('K-Nearest Classifier Behaviour with Different Values of k')"
     ],
     "language": "python",
     "metadata": {},
     "outputs": [
      {
       "output_type": "pyout",
       "prompt_number": 20,
       "text": [
        "<matplotlib.text.Text at 0x7f55d737f150>"
       ]
      },
      {
       "output_type": "display_data",
       "png": "[encoded data removed]"
      }
     ],
     "prompt_number": 20
    },
    {
     "cell_type": "markdown",
     "metadata": {},
     "source": [
      "This plot is too erratic to make any reasonable predictions. However, we can see that the best accuracy occurs at about $k=30$, which is the same as the value obtained in unigram *counts*. The accuracy does increase at about $k=260$, but the increase is not worth the additional computation overhead, and then the performance decreases once again."
     ]
    },
    {
     "cell_type": "markdown",
     "metadata": {},
     "source": [
      "Thus we calculate a final number for accuracy at $k=30$ with 100 features."
     ]
    },
    {
     "cell_type": "code",
     "collapsed": false,
     "input": [
      "from sklearn.neighbors import KNeighborsClassifier\n",
      "\n",
      "bigram_knn = KNeighborsClassifier(30)\n",
      "bigram_predict_y = select_classify(bigram_knn, 100)\n",
      "\n",
      "bigram_knn_accuracy = accuracy()"
     ],
     "language": "python",
     "metadata": {},
     "outputs": [
      {
       "output_type": "stream",
       "stream": "stdout",
       "text": [
        "Accuracy: 66.4%\n",
        "             precision    recall  f1-score   support\n",
        "\n",
        "        neg       0.62      0.87      0.72       500\n",
        "        pos       0.78      0.45      0.57       500\n",
        "\n",
        "avg / total       0.70      0.66      0.65      1000\n",
        "\n"
       ]
      }
     ],
     "prompt_number": 21
    },
    {
     "cell_type": "markdown",
     "metadata": {},
     "source": [
      "This value is *significantly* lower than unigram presence, and is comparable to unigram counts."
     ]
    },
    {
     "cell_type": "markdown",
     "metadata": {},
     "source": [
      "###Classifier 2: Naive Bayes"
     ]
    },
    {
     "cell_type": "markdown",
     "metadata": {},
     "source": [
      "We now train and use the Bernoulli Naive Bayes classifier."
     ]
    },
    {
     "cell_type": "code",
     "collapsed": false,
     "input": [
      "from sklearn.naive_bayes import BernoulliNB\n",
      "\n",
      "bigram_nb = BernoulliNB(binarize=None)\n",
      "bigram_predict_y = classify(bigram_nb)"
     ],
     "language": "python",
     "metadata": {},
     "outputs": [],
     "prompt_number": 22
    },
    {
     "cell_type": "code",
     "collapsed": false,
     "input": [
      "bigram_nb_accuracy = accuracy()"
     ],
     "language": "python",
     "metadata": {},
     "outputs": [
      {
       "output_type": "stream",
       "stream": "stdout",
       "text": [
        "Accuracy: 65.0%\n",
        "             precision    recall  f1-score   support\n",
        "\n",
        "        neg       0.59      0.99      0.74       500\n",
        "        pos       0.96      0.31      0.47       500\n",
        "\n",
        "avg / total       0.78      0.65      0.60      1000\n",
        "\n"
       ]
      }
     ],
     "prompt_number": 23
    },
    {
     "cell_type": "code",
     "collapsed": false,
     "input": [
      "from sklearn.naive_bayes import BernoulliNB\n",
      "\n",
      "bigram_nb = BernoulliNB(binarize=None)\n",
      "\n",
      "compare_feature_performance(bigram_nb, 'Naive Bayes Classifier')"
     ],
     "language": "python",
     "metadata": {},
     "outputs": [
      {
       "output_type": "display_data",
       "png": "[encoded data removed]"
      }
     ],
     "prompt_number": 24
    },
    {
     "cell_type": "markdown",
     "metadata": {},
     "source": [
      "The shape of this curve is nearly identical to the curve for unigram presence. However, the number of features required to attain the peak is roughly 10 times the number required for unigram presence at about 1000. The peak accuracy is also slightly lower."
     ]
    },
    {
     "cell_type": "markdown",
     "metadata": {},
     "source": [
      "Thus we calculate the exact final accuracy with 1000 features."
     ]
    },
    {
     "cell_type": "code",
     "collapsed": false,
     "input": [
      "from sklearn.naive_bayes import BernoulliNB\n",
      "\n",
      "bigram_nb = BernoulliNB(binarize=None)\n",
      "bigram_predict_y = select_classify(bigram_nb, 1000)\n",
      "\n",
      "bigram_nb_accuracy = accuracy()"
     ],
     "language": "python",
     "metadata": {},
     "outputs": [
      {
       "output_type": "stream",
       "stream": "stdout",
       "text": [
        "Accuracy: 75.4%\n",
        "             precision    recall  f1-score   support\n",
        "\n",
        "        neg       0.70      0.88      0.78       500\n",
        "        pos       0.84      0.63      0.72       500\n",
        "\n",
        "avg / total       0.77      0.75      0.75      1000\n",
        "\n"
       ]
      }
     ],
     "prompt_number": 25
    },
    {
     "cell_type": "markdown",
     "metadata": {},
     "source": [
      "###Classifier 3: Perceptron"
     ]
    },
    {
     "cell_type": "code",
     "collapsed": false,
     "input": [
      "from sklearn.linear_model import Perceptron\n",
      "\n",
      "bigram_perceptron = Perceptron()\n",
      "bigram_predict_y = classify(bigram_perceptron)"
     ],
     "language": "python",
     "metadata": {},
     "outputs": [],
     "prompt_number": 26
    },
    {
     "cell_type": "code",
     "collapsed": false,
     "input": [
      "bigram_perceptron_accuracy = accuracy()"
     ],
     "language": "python",
     "metadata": {},
     "outputs": [
      {
       "output_type": "stream",
       "stream": "stdout",
       "text": [
        "Accuracy: 73.3%\n",
        "             precision    recall  f1-score   support\n",
        "\n",
        "        neg       0.71      0.78      0.74       500\n",
        "        pos       0.76      0.69      0.72       500\n",
        "\n",
        "avg / total       0.74      0.73      0.73      1000\n",
        "\n"
       ]
      }
     ],
     "prompt_number": 27
    },
    {
     "cell_type": "code",
     "collapsed": false,
     "input": [
      "from sklearn.linear_model import Perceptron\n",
      "\n",
      "bigram_perceptron = Perceptron()\n",
      "\n",
      "compare_feature_performance(bigram_perceptron, 'Perceptron Classifier')"
     ],
     "language": "python",
     "metadata": {},
     "outputs": [
      {
       "output_type": "display_data",
       "png": "[encoded data removed]"
      }
     ],
     "prompt_number": 28
    },
    {
     "cell_type": "markdown",
     "metadata": {},
     "source": [
      "The behaviour displayed is once again similar to unigram presence. In the perceptron case, the accuracy keeps increasing with the addition of more features although towards the end the performance starts to degrade owing to too much noise."
     ]
    },
    {
     "cell_type": "markdown",
     "metadata": {},
     "source": [
      "We calculate the final perceptron accuracy at 4000 features."
     ]
    },
    {
     "cell_type": "code",
     "collapsed": false,
     "input": [
      "from sklearn.linear_model import Perceptron\n",
      "\n",
      "bigram_perceptron = Perceptron()\n",
      "bigram_predict_y = select_classify(bigram_perceptron, 4000)\n",
      "\n",
      "bigram_perceptron_accuracy = accuracy()"
     ],
     "language": "python",
     "metadata": {},
     "outputs": [
      {
       "output_type": "stream",
       "stream": "stdout",
       "text": [
        "Accuracy: 75.6%\n",
        "             precision    recall  f1-score   support\n",
        "\n",
        "        neg       0.72      0.83      0.77       500\n",
        "        pos       0.80      0.68      0.74       500\n",
        "\n",
        "avg / total       0.76      0.76      0.75      1000\n",
        "\n"
       ]
      }
     ],
     "prompt_number": 29
    },
    {
     "cell_type": "markdown",
     "metadata": {},
     "source": [
      "###Classifier 4: Decision Tree"
     ]
    },
    {
     "cell_type": "markdown",
     "metadata": {},
     "source": [
      "`scikit-learn`'s decision tree cannot be used for such vast feature spaces as it requires dense arrays which clog up memory much more than can be handled."
     ]
    },
    {
     "cell_type": "markdown",
     "metadata": {},
     "source": [
      "###Classifier 5: SVM"
     ]
    },
    {
     "cell_type": "code",
     "collapsed": false,
     "input": [
      "from sklearn.svm import LinearSVC\n",
      "\n",
      "bigram_linsvm = LinearSVC()\n",
      "bigram_predict_y = classify(bigram_linsvm)"
     ],
     "language": "python",
     "metadata": {},
     "outputs": [],
     "prompt_number": 30
    },
    {
     "cell_type": "code",
     "collapsed": false,
     "input": [
      "bigram_linsvm_accuracy = accuracy()"
     ],
     "language": "python",
     "metadata": {},
     "outputs": [
      {
       "output_type": "stream",
       "stream": "stdout",
       "text": [
        "Accuracy: 80.2%\n",
        "             precision    recall  f1-score   support\n",
        "\n",
        "        neg       0.79      0.83      0.81       500\n",
        "        pos       0.82      0.77      0.80       500\n",
        "\n",
        "avg / total       0.80      0.80      0.80      1000\n",
        "\n"
       ]
      }
     ],
     "prompt_number": 31
    },
    {
     "cell_type": "code",
     "collapsed": false,
     "input": [
      "from sklearn.svm import LinearSVC\n",
      "\n",
      "bigram_linsvm = LinearSVC()\n",
      "\n",
      "compare_feature_performance(bigram_linsvm, 'SVM Classifier')"
     ],
     "language": "python",
     "metadata": {},
     "outputs": [
      {
       "output_type": "display_data",
       "png": "[encoded data removed]"
      }
     ],
     "prompt_number": 32
    },
    {
     "cell_type": "markdown",
     "metadata": {},
     "source": [
      "SVM shows consistent behaviour in that its performance keeps increasing as more features are added."
     ]
    },
    {
     "cell_type": "markdown",
     "metadata": {},
     "source": [
      "As a result, the final accuracy for SVM is the same as the initial value."
     ]
    },
    {
     "cell_type": "markdown",
     "metadata": {},
     "source": [
      "###Classifier 6: Stochastic Gradient Descent"
     ]
    },
    {
     "cell_type": "markdown",
     "metadata": {},
     "source": [
      "####a) Stochastic Gradient Descent with Hinge Loss\n",
      "This is the loss function used by linear SVM."
     ]
    },
    {
     "cell_type": "code",
     "collapsed": false,
     "input": [
      "from sklearn.linear_model import SGDClassifier\n",
      "\n",
      "bigram_sgd_hinge = SGDClassifier(shuffle=True)\n",
      "bigram_predict_y = classify(bigram_sgd_hinge)"
     ],
     "language": "python",
     "metadata": {},
     "outputs": [],
     "prompt_number": 37
    },
    {
     "cell_type": "code",
     "collapsed": false,
     "input": [
      "bigram_sgd_hinge_accuracy = accuracy()"
     ],
     "language": "python",
     "metadata": {},
     "outputs": [
      {
       "output_type": "stream",
       "stream": "stdout",
       "text": [
        "Accuracy: 75.2%\n",
        "             precision    recall  f1-score   support\n",
        "\n",
        "        neg       0.76      0.74      0.75       500\n",
        "        pos       0.75      0.77      0.76       500\n",
        "\n",
        "avg / total       0.75      0.75      0.75      1000\n",
        "\n"
       ]
      }
     ],
     "prompt_number": 38
    },
    {
     "cell_type": "code",
     "collapsed": false,
     "input": [
      "from sklearn.linear_model import SGDClassifier\n",
      "\n",
      "bigram_sgd_hinge = SGDClassifier(shuffle=True)\n",
      "\n",
      "compare_feature_performance(bigram_sgd_hinge, 'Hinge Loss SGD Classifier')"
     ],
     "language": "python",
     "metadata": {},
     "outputs": [
      {
       "output_type": "display_data",
       "png": "[encoded data removed]"
      }
     ],
     "prompt_number": 40
    },
    {
     "cell_type": "markdown",
     "metadata": {},
     "source": [
      "The plot is jagged due to the probabilistic nature of SGD, but in general the trend is towards improvement as more features are added."
     ]
    },
    {
     "cell_type": "markdown",
     "metadata": {},
     "source": [
      "As a result, the final accuracy stays unchanged."
     ]
    },
    {
     "cell_type": "markdown",
     "metadata": {},
     "source": [
      "####b) Stochastic Gradient Descent with Modified Huber Loss\n",
      "This is a smoothed version of hinge loss."
     ]
    },
    {
     "cell_type": "code",
     "collapsed": false,
     "input": [
      "from sklearn.linear_model import SGDClassifier\n",
      "\n",
      "bigram_sgd_huber = SGDClassifier(loss='modified_huber', shuffle=True)\n",
      "bigram_predict_y = classify(bigram_sgd_huber)"
     ],
     "language": "python",
     "metadata": {},
     "outputs": [],
     "prompt_number": 41
    },
    {
     "cell_type": "code",
     "collapsed": false,
     "input": [
      "bigram_sgd_huber_accuracy = accuracy()"
     ],
     "language": "python",
     "metadata": {},
     "outputs": [
      {
       "output_type": "stream",
       "stream": "stdout",
       "text": [
        "Accuracy: 74.5%\n",
        "             precision    recall  f1-score   support\n",
        "\n",
        "        neg       0.76      0.71      0.74       500\n",
        "        pos       0.73      0.78      0.75       500\n",
        "\n",
        "avg / total       0.75      0.74      0.74      1000\n",
        "\n"
       ]
      }
     ],
     "prompt_number": 44
    },
    {
     "cell_type": "code",
     "collapsed": false,
     "input": [
      "from sklearn.linear_model import SGDClassifier\n",
      "\n",
      "bigram_sgd_huber = SGDClassifier(loss='modified_huber', shuffle=True)\n",
      "\n",
      "compare_feature_performance(bigram_sgd_huber, 'Huber SGD Classifier')"
     ],
     "language": "python",
     "metadata": {},
     "outputs": [
      {
       "output_type": "display_data",
       "png": "[encoded data removed]"
      }
     ],
     "prompt_number": 43
    },
    {
     "cell_type": "markdown",
     "metadata": {},
     "source": [
      "The behaviour is, once again, similar to the SVM and the hinge loss SGD. Hence the accuracy remains unchanged."
     ]
    },
    {
     "cell_type": "markdown",
     "metadata": {},
     "source": [
      "A comparison of the final accuracies of the various algorithms can be seen in the graph below."
     ]
    },
    {
     "cell_type": "code",
     "collapsed": false,
     "input": [
      "names = ['KNN', 'NB', 'Perceptron', 'SVM', 'SGD-Hinge', 'SGD-Huber']\n",
      "accuracies = [bigram_knn_accuracy, bigram_nb_accuracy, bigram_perceptron_accuracy, bigram_linsvm_accuracy, bigram_sgd_hinge_accuracy, bigram_sgd_huber_accuracy]\n",
      "\n",
      "bar(arange(0.25, 6.25), accuracies, width=0.5)\n",
      "xticks(arange(0.5,7.5), names)\n",
      "xlabel('Algorithm')\n",
      "ylabel('Accuracy %')\n",
      "title('Algorithm Comparison for Bigram Presence')"
     ],
     "language": "python",
     "metadata": {},
     "outputs": [
      {
       "output_type": "pyout",
       "prompt_number": 46,
       "text": [
        "<matplotlib.text.Text at 0x7f55d7a43b90>"
       ]
      },
      {
       "output_type": "display_data",
       "png": "[encoded data removed]"
      }
     ],
     "prompt_number": 46
    }
   ],
   "metadata": {}
  }
 ]
}