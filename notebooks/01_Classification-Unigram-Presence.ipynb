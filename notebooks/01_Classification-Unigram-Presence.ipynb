{
 "metadata": {
  "name": "01_Classification-Unigram-Presence"
 },
 "nbformat": 3,
 "nbformat_minor": 0,
 "worksheets": [
  {
   "cells": [
    {
     "cell_type": "markdown",
     "metadata": {},
     "source": [
      "##Feature 1: Presence\n",
      "\n",
      "This feature uses a simplistic bag-of-words approach that simply considers the presence/absence of words. The following classification algorithms are covered:\n",
      "\n",
      "<ul>\n",
      "    <li>K-Nearest Neighbours</li>\n",
      "    <li>Naive Bayes</li>\n",
      "    <li>Perceptron</li>\n",
      "    <li>Decision Tree</li>\n",
      "</ul>"
     ]
    },
    {
     "cell_type": "markdown",
     "metadata": {},
     "source": [
      "###Imports"
     ]
    },
    {
     "cell_type": "code",
     "collapsed": false,
     "input": [
      "from sklearn import datasets"
     ],
     "language": "python",
     "metadata": {},
     "outputs": [],
     "prompt_number": 1
    },
    {
     "cell_type": "code",
     "collapsed": false,
     "input": [
      "%pylab inline"
     ],
     "language": "python",
     "metadata": {},
     "outputs": [
      {
       "output_type": "stream",
       "stream": "stdout",
       "text": [
        "\n",
        "Welcome to pylab, a matplotlib-based Python environment [backend: module://IPython.zmq.pylab.backend_inline].\n",
        "For more information, type 'help(pylab)'.\n"
       ]
      }
     ],
     "prompt_number": 2
    },
    {
     "cell_type": "markdown",
     "metadata": {},
     "source": [
      "###Initialization\n",
      "\n",
      "The code below loads the appropriate data. First set the appropriate location where the data resides using the `datapath` variable."
     ]
    },
    {
     "cell_type": "code",
     "collapsed": false,
     "input": [
      "# Set the path where the data resides\n",
      "datapath = \"../data/small/\""
     ],
     "language": "python",
     "metadata": {},
     "outputs": [],
     "prompt_number": 3
    },
    {
     "cell_type": "code",
     "collapsed": false,
     "input": [
      "# Load train set\n",
      "train_set_location = \"{0}train\".format(datapath)\n",
      "train_set = datasets.load_files(train_set_location)\n",
      "\n",
      "# Load test set\n",
      "test_set_location = \"{0}test\".format(datapath)\n",
      "test_set = datasets.load_files(test_set_location)"
     ],
     "language": "python",
     "metadata": {},
     "outputs": [],
     "prompt_number": 4
    },
    {
     "cell_type": "markdown",
     "metadata": {},
     "source": [
      "Some verifications:"
     ]
    },
    {
     "cell_type": "code",
     "collapsed": false,
     "input": [
      "# Size of the training set\n",
      "print(len(train_set.data))"
     ],
     "language": "python",
     "metadata": {},
     "outputs": [
      {
       "output_type": "stream",
       "stream": "stdout",
       "text": [
        "2000\n"
       ]
      }
     ],
     "prompt_number": 5
    },
    {
     "cell_type": "code",
     "collapsed": false,
     "input": [
      "# Size of the test set\n",
      "print(len(test_set.data))"
     ],
     "language": "python",
     "metadata": {},
     "outputs": [
      {
       "output_type": "stream",
       "stream": "stdout",
       "text": [
        "1000\n"
       ]
      }
     ],
     "prompt_number": 6
    },
    {
     "cell_type": "code",
     "collapsed": false,
     "input": [
      "# Names of the two categories\n",
      "print(train_set.target_names)\n",
      "print(test_set.target_names)"
     ],
     "language": "python",
     "metadata": {},
     "outputs": [
      {
       "output_type": "stream",
       "stream": "stdout",
       "text": [
        "['neg', 'pos']\n",
        "['neg', 'pos']\n"
       ]
      }
     ],
     "prompt_number": 7
    },
    {
     "cell_type": "code",
     "collapsed": false,
     "input": [
      "# An example train review\n",
      "demo_review_index = 95 # Change to view different reviews\n",
      "print(\"The review is {0}\".format(train_set.target_names[train_set.target[demo_review_index]]))\n",
      "print(train_set.data[demo_review_index])\n",
      "\n",
      "del demo_review_index"
     ],
     "language": "python",
     "metadata": {},
     "outputs": [
      {
       "output_type": "stream",
       "stream": "stdout",
       "text": [
        "The review is pos\n",
        "b'Oliver! the musical is a favorite of mine. The music, the characters, the story. It all just seems perfect. In this rendition of the timeless classic novel turned stage musical, director Carol Reed brings the Broadway hit to life on the movie screen.<br /><br />The transition from musical to movie musical is not an easy one. You have to have the right voices, the right set, the right script, and the right play. All signs point to yes for this play. It almost appears that it was written for the screen!<br /><br />Our story takes place in jolly old England where a boy named Oliver manages to work his way out of the orphanage. He winds his way through the country to London where he meets up with a group of juvenile delinquents, headed by Dodger, the smart talking, quick handed pick-pocket. The leader of this gang is named Fagin, an older fellow who sells all the stolen goods.<br /><br />But all is not well in London town when Bill Sykes played by Oliver Reed and his loving girlfriend Nancy get tangled up with Oliver, Fagin and his young troops, and the law. What ensues is a marvelous tale of love, affection, and great musical numbers.<br /><br />Whether or not you like musicals or not, one listen to these tunes and you will be humming them all day long. Oliver! is a triumph on and off the stage and is a timeless work of art.'\n"
       ]
      }
     ],
     "prompt_number": 8
    },
    {
     "cell_type": "markdown",
     "metadata": {},
     "source": [
      "###Data Transformation\n",
      "\n",
      "The following code transforms the documents into feature vectors depending on whether a particular word occurs in the document or not. The `CountVectorizer` from the `sklearn.feature_extraction.text` package is used for this purpose with the parameter `binary=True` (so that only presence/absence is considered while counts themselves are ignored)."
     ]
    },
    {
     "cell_type": "code",
     "collapsed": false,
     "input": [
      "from sklearn.feature_extraction.text import CountVectorizer"
     ],
     "language": "python",
     "metadata": {},
     "outputs": [],
     "prompt_number": 9
    },
    {
     "cell_type": "code",
     "collapsed": false,
     "input": [
      "# Create the vectorizer\n",
      "unigram_presence_vectorizer = CountVectorizer(binary=True)\n",
      "\n",
      "# Fit training data and transform appropriately\n",
      "unigram_train_X = unigram_presence_vectorizer.fit_transform(train_set.data)\n",
      "unigram_train_y = train_set.target\n",
      "\n",
      "# Transform test data according to learnt training vocabulary\n",
      "unigram_test_X = unigram_presence_vectorizer.transform(test_set.data)\n",
      "unigram_test_y = test_set.target"
     ],
     "language": "python",
     "metadata": {},
     "outputs": [],
     "prompt_number": 10
    },
    {
     "cell_type": "code",
     "collapsed": false,
     "input": [
      "print(\"Length of feature vector: {0}\".format(unigram_train_X.shape[1]))"
     ],
     "language": "python",
     "metadata": {},
     "outputs": [
      {
       "output_type": "stream",
       "stream": "stdout",
       "text": [
        "Length of feature vector: 24249\n"
       ]
      }
     ],
     "prompt_number": 11
    },
    {
     "cell_type": "markdown",
     "metadata": {},
     "source": [
      "###Function Setup\n",
      "\n",
      "The following code sets up a function to perform classification. It accepts an estimator object and calls the `fit()` method of that object to learn the training data, and then the `predict()` method, supplying the test data as a parameter. The predicted vectors for the test data are returned."
     ]
    },
    {
     "cell_type": "code",
     "collapsed": false,
     "input": [
      "def classify(classifier):\n",
      "    classifier.fit(unigram_train_X, unigram_train_y)\n",
      "    predicted_y = classifier.predict(unigram_test_X)\n",
      "    \n",
      "    return predicted_y\n",
      "\n",
      "def select_classify(classifier, k):\n",
      "    \n",
      "    # First select\n",
      "    from sklearn.feature_selection import chi2, SelectKBest\n",
      "    selector = SelectKBest(chi2, k)\n",
      "    unigram_seltrain_X = selector.fit_transform(unigram_train_X, unigram_train_y)\n",
      "    \n",
      "    classifier.fit(unigram_seltrain_X, unigram_train_y)\n",
      "    predicted_y = classifier.predict(selector.transform(unigram_test_X))\n",
      "    \n",
      "    return predicted_y"
     ],
     "language": "python",
     "metadata": {},
     "outputs": [],
     "prompt_number": 12
    },
    {
     "cell_type": "markdown",
     "metadata": {},
     "source": [
      "The code below now sets up a function to calculate accuracy values and report the same for the last performed classification."
     ]
    },
    {
     "cell_type": "code",
     "collapsed": false,
     "input": [
      "def accuracy():\n",
      "    from sklearn.metrics import accuracy_score, confusion_matrix, classification_report\n",
      "\n",
      "    acc = accuracy_score(unigram_test_y, unigram_predict_y) * 100\n",
      "    print(\"Accuracy: {0}%\".format(acc))\n",
      "    print(classification_report(unigram_test_y, unigram_predict_y, target_names=test_set.target_names))\n",
      "    \n",
      "    return acc"
     ],
     "language": "python",
     "metadata": {},
     "outputs": [],
     "prompt_number": 13
    },
    {
     "cell_type": "markdown",
     "metadata": {},
     "source": [
      "###Classifier 1: K-Nearest Neighbours"
     ]
    },
    {
     "cell_type": "markdown",
     "metadata": {},
     "source": [
      "We now train and use the KNN classifier."
     ]
    },
    {
     "cell_type": "code",
     "collapsed": false,
     "input": [
      "from sklearn.neighbors import KNeighborsClassifier\n",
      "\n",
      "unigram_knn = KNeighborsClassifier()\n",
      "unigram_predict_y = classify(unigram_knn)"
     ],
     "language": "python",
     "metadata": {},
     "outputs": [],
     "prompt_number": 14
    },
    {
     "cell_type": "markdown",
     "metadata": {},
     "source": [
      "The following are the results:"
     ]
    },
    {
     "cell_type": "code",
     "collapsed": false,
     "input": [
      "unigram_knn_accuracy = accuracy()"
     ],
     "language": "python",
     "metadata": {},
     "outputs": [
      {
       "output_type": "stream",
       "stream": "stdout",
       "text": [
        "Accuracy: 57.4%\n",
        "             precision    recall  f1-score   support\n",
        "\n",
        "        neg       0.62      0.39      0.48       500\n",
        "        pos       0.55      0.76      0.64       500\n",
        "\n",
        "avg / total       0.59      0.57      0.56      1000\n",
        "\n"
       ]
      }
     ],
     "prompt_number": 15
    },
    {
     "cell_type": "markdown",
     "metadata": {},
     "source": [
      "An experiment: we try varying the number of features used and compute the accuracies obtained."
     ]
    },
    {
     "cell_type": "code",
     "collapsed": false,
     "input": [
      "from sklearn.neighbors import KNeighborsClassifier\n",
      "from sklearn.metrics import accuracy_score\n",
      "\n",
      "unigram_knn = KNeighborsClassifier()\n",
      "\n",
      "accuracies = []\n",
      "kvals = logspace(1, 14, num=14, base=2.0)  # k = 2, 4, 8, 16, ...\n",
      "kvals = append(kvals, [unigram_train_X.shape[1]])\n",
      "for k in kvals:\n",
      "    unigram_predict_y = select_classify(unigram_knn, k)\n",
      "    accuracies.append(accuracy_score(unigram_test_y, unigram_predict_y) * 100)\n",
      "    \n",
      "plot(kvals, accuracies)\n",
      "xscale('log')\n",
      "xlim([0, unigram_train_X.shape[1]])\n",
      "xlabel('Number of features')\n",
      "ylabel('Accuracy (%)')\n",
      "title('K-Nearest Classifier Behaviour with Different no of Features')"
     ],
     "language": "python",
     "metadata": {},
     "outputs": [
      {
       "output_type": "pyout",
       "prompt_number": 17,
       "text": [
        "<matplotlib.text.Text at 0x7f000b18f990>"
       ]
      },
      {
       "output_type": "display_data",
       "png": "[encoded data removed]"
      }
     ],
     "prompt_number": 17
    },
    {
     "cell_type": "markdown",
     "metadata": {},
     "source": [
      "From the above output we can conclude that the K-Nearest Neighbours classifier performs poorly when the number of features is either a) too low or b) too high. A possible reason is that too few features don't cover enough information and thus have low recall, while too many features add not just the required information but also additional noise, thus affecting the precision.\n",
      "\n",
      "The best results are obtained for a number of features at around 100."
     ]
    },
    {
     "cell_type": "markdown",
     "metadata": {},
     "source": [
      "An additional experiment: setting the number of features at 100, we vary the value of $k$."
     ]
    },
    {
     "cell_type": "code",
     "collapsed": false,
     "input": [
      "from sklearn.neighbors import KNeighborsClassifier\n",
      "from sklearn.metrics import accuracy_score\n",
      "\n",
      "kvals = range(1, 400, 6)\n",
      "accuracies = []\n",
      "\n",
      "for k in kvals:\n",
      "    unigram_knn = KNeighborsClassifier(k)\n",
      "    unigram_predict_y = select_classify(unigram_knn, 100)\n",
      "    accuracies.append(accuracy_score(unigram_test_y, unigram_predict_y) * 100)\n",
      "    \n",
      "plot(kvals, accuracies)\n",
      "xlabel('k')\n",
      "ylabel('Accuracy (%)')\n",
      "title('K-Nearest Classifier Behaviour with Different Values of k')"
     ],
     "language": "python",
     "metadata": {},
     "outputs": [
      {
       "output_type": "pyout",
       "prompt_number": 18,
       "text": [
        "<matplotlib.text.Text at 0x7f000b017690>"
       ]
      },
      {
       "output_type": "display_data",
       "png": "[encoded data removed]"
      }
     ],
     "prompt_number": 18
    },
    {
     "cell_type": "markdown",
     "metadata": {},
     "source": [
      "From the above experiment, we observe that the accuracy steadily increases upto $k = 150$. Here the increase in accuracy is about 4% compared to the default $k=5$. However, after that the benefits of increasing $k$ values begins to dry off as the accuracy stagnates at 74 to 75%."
     ]
    },
    {
     "cell_type": "markdown",
     "metadata": {},
     "source": [
      "###Classifier 2: Naive Bayes"
     ]
    },
    {
     "cell_type": "markdown",
     "metadata": {},
     "source": [
      "We now train and use the Bernoulli Naive Bayes classifier."
     ]
    },
    {
     "cell_type": "code",
     "collapsed": false,
     "input": [
      "from sklearn.naive_bayes import BernoulliNB\n",
      "\n",
      "unigram_nb = BernoulliNB(binarize=None)\n",
      "unigram_predict_y = classify(unigram_nb)"
     ],
     "language": "python",
     "metadata": {},
     "outputs": [],
     "prompt_number": 19
    },
    {
     "cell_type": "markdown",
     "metadata": {},
     "source": [
      "The following are the results:"
     ]
    },
    {
     "cell_type": "code",
     "collapsed": false,
     "input": [
      "unigram_nb_accuracy = accuracy()"
     ],
     "language": "python",
     "metadata": {},
     "outputs": [
      {
       "output_type": "stream",
       "stream": "stdout",
       "text": [
        "Accuracy: 71.5%\n",
        "             precision    recall  f1-score   support\n",
        "\n",
        "        neg       0.65      0.92      0.76       500\n",
        "        pos       0.87      0.51      0.64       500\n",
        "\n",
        "avg / total       0.76      0.71      0.70      1000\n",
        "\n"
       ]
      }
     ],
     "prompt_number": 20
    },
    {
     "cell_type": "markdown",
     "metadata": {},
     "source": [
      "###Classifier 3: Perceptron"
     ]
    },
    {
     "cell_type": "code",
     "collapsed": false,
     "input": [
      "from sklearn.linear_model import Perceptron\n",
      "\n",
      "unigram_perceptron = Perceptron()\n",
      "unigram_predict_y = classify(unigram_perceptron)"
     ],
     "language": "python",
     "metadata": {},
     "outputs": [],
     "prompt_number": 21
    },
    {
     "cell_type": "code",
     "collapsed": false,
     "input": [
      "unigram_perceptron_accuracy = accuracy()"
     ],
     "language": "python",
     "metadata": {},
     "outputs": [
      {
       "output_type": "stream",
       "stream": "stdout",
       "text": [
        "Accuracy: 78.3%\n",
        "             precision    recall  f1-score   support\n",
        "\n",
        "        neg       0.74      0.87      0.80       500\n",
        "        pos       0.84      0.70      0.76       500\n",
        "\n",
        "avg / total       0.79      0.78      0.78      1000\n",
        "\n"
       ]
      }
     ],
     "prompt_number": 22
    },
    {
     "cell_type": "markdown",
     "metadata": {},
     "source": [
      "###Classifier 4: Decision Tree"
     ]
    },
    {
     "cell_type": "code",
     "collapsed": false,
     "input": [
      "from sklearn.tree import DecisionTreeClassifier\n",
      "\n",
      "unigram_dt = DecisionTreeClassifier(max_features=\"auto\") # By default no of features = sqrt(total no of features)\n",
      "unigram_dt.fit(unigram_train_X.toarray(), unigram_train_y) # Can't use generic method as decision tree requires dense arrays\n",
      "\n",
      "unigram_predict_y = unigram_dt.predict(unigram_test_X.toarray())"
     ],
     "language": "python",
     "metadata": {},
     "outputs": [],
     "prompt_number": 23
    },
    {
     "cell_type": "code",
     "collapsed": false,
     "input": [
      "unigram_dt_accuracy = accuracy()"
     ],
     "language": "python",
     "metadata": {},
     "outputs": [
      {
       "output_type": "stream",
       "stream": "stdout",
       "text": [
        "Accuracy: 61.9%\n",
        "             precision    recall  f1-score   support\n",
        "\n",
        "        neg       0.61      0.67      0.64       500\n",
        "        pos       0.63      0.57      0.60       500\n",
        "\n",
        "avg / total       0.62      0.62      0.62      1000\n",
        "\n"
       ]
      }
     ],
     "prompt_number": 24
    },
    {
     "cell_type": "markdown",
     "metadata": {},
     "source": [
      "###Classifier 5: SVM"
     ]
    },
    {
     "cell_type": "code",
     "collapsed": false,
     "input": [
      "from sklearn.svm import SVC\n",
      "\n",
      "unigram_svm = SVC(kernel='linear')\n",
      "unigram_predict_y = classify(unigram_svm)"
     ],
     "language": "python",
     "metadata": {},
     "outputs": [
      {
       "output_type": "stream",
       "stream": "stdout",
       "text": [
        "1 loops, best of 3: 17.6 s per loop\n"
       ]
      }
     ],
     "prompt_number": 32
    },
    {
     "cell_type": "code",
     "collapsed": false,
     "input": [
      "unigram_svm_accuracy = accuracy()"
     ],
     "language": "python",
     "metadata": {},
     "outputs": [
      {
       "output_type": "stream",
       "stream": "stdout",
       "text": [
        "Accuracy: 79.7%\n",
        "             precision    recall  f1-score   support\n",
        "\n",
        "        neg       0.77      0.86      0.81       500\n",
        "        pos       0.84      0.74      0.78       500\n",
        "\n",
        "avg / total       0.80      0.80      0.80      1000\n",
        "\n"
       ]
      }
     ],
     "prompt_number": 27
    },
    {
     "cell_type": "code",
     "collapsed": false,
     "input": [
      "from sklearn.svm import LinearSVC\n",
      "\n",
      "unigram_linsvm = LinearSVC()\n",
      "unigram_predict_y = classify(unigram_linsvm)"
     ],
     "language": "python",
     "metadata": {},
     "outputs": [],
     "prompt_number": 33
    },
    {
     "cell_type": "code",
     "collapsed": false,
     "input": [
      "unigram_linsvm_accuracy = accuracy()"
     ],
     "language": "python",
     "metadata": {},
     "outputs": [
      {
       "output_type": "stream",
       "stream": "stdout",
       "text": [
        "Accuracy: 79.80000000000001%\n",
        "             precision    recall  f1-score   support\n",
        "\n",
        "        neg       0.77      0.85      0.81       500\n",
        "        pos       0.84      0.74      0.79       500\n",
        "\n",
        "avg / total       0.80      0.80      0.80      1000\n",
        "\n"
       ]
      }
     ],
     "prompt_number": 34
    },
    {
     "cell_type": "markdown",
     "metadata": {},
     "source": [
      "According to basic profiling experiments, `LinearSVC` provides a 1400% speedup over `SVC` with `kernel='linear'` (1.24 sec vs. 17.6 sec), with comparable accuracy figures. Hence, in all future experiments, `LinearSVC` will be used."
     ]
    },
    {
     "cell_type": "code",
     "collapsed": false,
     "input": [
      "from sklearn.svm import LinearSVC\n",
      "from sklearn.metrics import accuracy_score\n",
      "\n",
      "unigram_linsvm = LinearSVC()\n",
      "\n",
      "accuracies = []\n",
      "kvals = logspace(1, 14, num=14, base=2.0)  # k = 2, 4, 8, 16, ...\n",
      "kvals = append(kvals, [unigram_train_X.shape[1]])\n",
      "for k in kvals:\n",
      "    unigram_predict_y = select_classify(unigram_linsvm, k)\n",
      "    accuracies.append(accuracy_score(unigram_test_y, unigram_predict_y) * 100)\n",
      "    \n",
      "plot(kvals, accuracies)\n",
      "xscale('log')\n",
      "xlim([0, unigram_train_X.shape[1]])\n",
      "xlabel('Number of features')\n",
      "ylabel('Accuracy (%)')\n",
      "title('SVM Classifier Behaviour with Different no of Features')"
     ],
     "language": "python",
     "metadata": {},
     "outputs": [
      {
       "output_type": "pyout",
       "prompt_number": 35,
       "text": [
        "<matplotlib.text.Text at 0x7f000ae24150>"
       ]
      },
      {
       "output_type": "display_data",
       "png": "[encoded data removed]"
      }
     ],
     "prompt_number": 35
    },
    {
     "cell_type": "markdown",
     "metadata": {},
     "source": [
      "Unlike K-Nearest Neighbours, the performance of SVM continues to improve when the number of features supplied to the classifier is increased. This lends credence to the view of SVM working better in high-dimensional spaces."
     ]
    }
   ],
   "metadata": {}
  }
 ]
}