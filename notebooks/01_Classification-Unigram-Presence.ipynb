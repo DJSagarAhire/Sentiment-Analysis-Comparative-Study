{
 "metadata": {
  "name": "01_Classification-Unigram-Presence"
 },
 "nbformat": 3,
 "nbformat_minor": 0,
 "worksheets": [
  {
   "cells": [
    {
     "cell_type": "markdown",
     "metadata": {},
     "source": [
      "##Feature 1: Presence\n",
      "\n",
      "This feature uses a simplistic bag-of-words approach that simply considers the presence/absence of words. The following classification algorithms are covered:\n",
      "\n",
      "<ul>\n",
      "    <li>K-Nearest Neighbours</li>\n",
      "    <li>Naive Bayes</li>\n",
      "    <li>Perceptron</li>\n",
      "    <li>Decision Tree</li>\n",
      "    <li>Linear SVM</li>\n",
      "    <li>Stochastic Gradient Descent\n",
      "        <ul>\n",
      "            <li>Hinge Loss</li>\n",
      "            <li>Modified Huber Loss</li>\n",
      "        </ul>\n",
      "    </li>\n",
      "</ul>"
     ]
    },
    {
     "cell_type": "markdown",
     "metadata": {},
     "source": [
      "###Imports"
     ]
    },
    {
     "cell_type": "code",
     "collapsed": false,
     "input": [
      "from sklearn import datasets"
     ],
     "language": "python",
     "metadata": {},
     "outputs": [],
     "prompt_number": 1
    },
    {
     "cell_type": "code",
     "collapsed": false,
     "input": [
      "%pylab inline"
     ],
     "language": "python",
     "metadata": {},
     "outputs": [
      {
       "output_type": "stream",
       "stream": "stdout",
       "text": [
        "\n",
        "Welcome to pylab, a matplotlib-based Python environment [backend: module://IPython.zmq.pylab.backend_inline].\n",
        "For more information, type 'help(pylab)'.\n"
       ]
      }
     ],
     "prompt_number": 2
    },
    {
     "cell_type": "markdown",
     "metadata": {},
     "source": [
      "###Initialization\n",
      "\n",
      "The code below loads the appropriate data. First set the appropriate location where the data resides using the `datapath` variable."
     ]
    },
    {
     "cell_type": "code",
     "collapsed": false,
     "input": [
      "# Set the path where the data resides\n",
      "datapath = \"../data/small/\""
     ],
     "language": "python",
     "metadata": {},
     "outputs": [],
     "prompt_number": 3
    },
    {
     "cell_type": "code",
     "collapsed": false,
     "input": [
      "# Load train set\n",
      "train_set_location = \"{0}train\".format(datapath)\n",
      "train_set = datasets.load_files(train_set_location)\n",
      "\n",
      "# Load test set\n",
      "test_set_location = \"{0}test\".format(datapath)\n",
      "test_set = datasets.load_files(test_set_location)"
     ],
     "language": "python",
     "metadata": {},
     "outputs": [],
     "prompt_number": 4
    },
    {
     "cell_type": "markdown",
     "metadata": {},
     "source": [
      "Some verifications:"
     ]
    },
    {
     "cell_type": "code",
     "collapsed": false,
     "input": [
      "# Size of the training set\n",
      "print(len(train_set.data))"
     ],
     "language": "python",
     "metadata": {},
     "outputs": [
      {
       "output_type": "stream",
       "stream": "stdout",
       "text": [
        "2000\n"
       ]
      }
     ],
     "prompt_number": 5
    },
    {
     "cell_type": "code",
     "collapsed": false,
     "input": [
      "# Size of the test set\n",
      "print(len(test_set.data))"
     ],
     "language": "python",
     "metadata": {},
     "outputs": [
      {
       "output_type": "stream",
       "stream": "stdout",
       "text": [
        "1000\n"
       ]
      }
     ],
     "prompt_number": 6
    },
    {
     "cell_type": "code",
     "collapsed": false,
     "input": [
      "# Names of the two categories\n",
      "print(train_set.target_names)\n",
      "print(test_set.target_names)"
     ],
     "language": "python",
     "metadata": {},
     "outputs": [
      {
       "output_type": "stream",
       "stream": "stdout",
       "text": [
        "['neg', 'pos']\n",
        "['neg', 'pos']\n"
       ]
      }
     ],
     "prompt_number": 7
    },
    {
     "cell_type": "code",
     "collapsed": false,
     "input": [
      "# An example train review\n",
      "demo_review_index = 700 # Change to view different reviews\n",
      "print(\"The review is {0}\".format(train_set.target_names[train_set.target[demo_review_index]]))\n",
      "print(train_set.data[demo_review_index])\n",
      "\n",
      "del demo_review_index"
     ],
     "language": "python",
     "metadata": {},
     "outputs": [
      {
       "output_type": "stream",
       "stream": "stdout",
       "text": [
        "The review is neg\n",
        "b\"Based upon the recommendation of a friend, my wife and I invited another couple to this film. I really apologized to them--all 4 of us hated it and spent the whole time looking at our watches waiting for the film to finally end. Half the vignettes are bizarre, with very little entertainment value. There were few scenes of Paris--for example, I was looking forward to seeing some pictures of the Latin Quarter, but I couldn't really recognize anything. Most of the scene was inside a bar. No one in the theater laughed at anything, or reacted in any way. If you like bizarre, pretentious, pseudo-intellectual films, don't miss this. If you are down to earth like me, you will be sorry you saw it.\"\n"
       ]
      }
     ],
     "prompt_number": 8
    },
    {
     "cell_type": "markdown",
     "metadata": {},
     "source": [
      "###Data Transformation\n",
      "\n",
      "The following code transforms the documents into feature vectors depending on whether a particular word occurs in the document or not. The `CountVectorizer` from the `sklearn.feature_extraction.text` package is used for this purpose with the parameter `binary=True` (so that only presence/absence is considered while counts themselves are ignored)."
     ]
    },
    {
     "cell_type": "code",
     "collapsed": false,
     "input": [
      "from sklearn.feature_extraction.text import CountVectorizer"
     ],
     "language": "python",
     "metadata": {},
     "outputs": [],
     "prompt_number": 9
    },
    {
     "cell_type": "code",
     "collapsed": false,
     "input": [
      "# Create the vectorizer\n",
      "unigram_presence_vectorizer = CountVectorizer(binary=True)\n",
      "\n",
      "# Fit training data and transform appropriately\n",
      "unigram_train_X = unigram_presence_vectorizer.fit_transform(train_set.data)\n",
      "unigram_train_y = train_set.target\n",
      "\n",
      "# Transform test data according to learnt training vocabulary\n",
      "unigram_test_X = unigram_presence_vectorizer.transform(test_set.data)\n",
      "unigram_test_y = test_set.target"
     ],
     "language": "python",
     "metadata": {},
     "outputs": [],
     "prompt_number": 10
    },
    {
     "cell_type": "code",
     "collapsed": false,
     "input": [
      "print(\"Length of feature vector: {0}\".format(unigram_train_X.shape[1]))"
     ],
     "language": "python",
     "metadata": {},
     "outputs": [
      {
       "output_type": "stream",
       "stream": "stdout",
       "text": [
        "Length of feature vector: 24249\n"
       ]
      }
     ],
     "prompt_number": 11
    },
    {
     "cell_type": "markdown",
     "metadata": {},
     "source": [
      "###Function Setup\n",
      "\n",
      "The following code sets up a function to perform classification. It accepts an estimator object and calls the `fit()` method of that object to learn the training data, and then the `predict()` method, supplying the test data as a parameter. The predicted vectors for the test data are returned."
     ]
    },
    {
     "cell_type": "code",
     "collapsed": false,
     "input": [
      "def classify(classifier):\n",
      "    classifier.fit(unigram_train_X, unigram_train_y)\n",
      "    predicted_y = classifier.predict(unigram_test_X)\n",
      "    \n",
      "    return predicted_y\n",
      "\n",
      "def select_classify(classifier, k):\n",
      "    \n",
      "    # First select\n",
      "    from sklearn.feature_selection import chi2, SelectKBest\n",
      "    selector = SelectKBest(chi2, k)\n",
      "    unigram_seltrain_X = selector.fit_transform(unigram_train_X, unigram_train_y)\n",
      "    \n",
      "    classifier.fit(unigram_seltrain_X, unigram_train_y)\n",
      "    predicted_y = classifier.predict(selector.transform(unigram_test_X))\n",
      "    \n",
      "    return predicted_y"
     ],
     "language": "python",
     "metadata": {},
     "outputs": [],
     "prompt_number": 12
    },
    {
     "cell_type": "markdown",
     "metadata": {},
     "source": [
      "The code below now sets up a function to calculate accuracy values and report the same for the last performed classification."
     ]
    },
    {
     "cell_type": "code",
     "collapsed": false,
     "input": [
      "def accuracy():\n",
      "    from sklearn.metrics import accuracy_score, confusion_matrix, classification_report\n",
      "\n",
      "    acc = accuracy_score(unigram_test_y, unigram_predict_y) * 100\n",
      "    print(\"Accuracy: {0}%\".format(acc))\n",
      "    print(classification_report(unigram_test_y, unigram_predict_y, target_names=test_set.target_names))\n",
      "    \n",
      "    return acc"
     ],
     "language": "python",
     "metadata": {},
     "outputs": [],
     "prompt_number": 13
    },
    {
     "cell_type": "markdown",
     "metadata": {},
     "source": [
      "The code below sets up a function to evaluate a classifier's performance depending on the number of features supplied to it. It creates a plot of features vs. accuracy out of repeated runs of the supplied classifier."
     ]
    },
    {
     "cell_type": "code",
     "collapsed": false,
     "input": [
      "def compare_feature_performance(classifier, classifier_name='Classifier'):\n",
      "    \n",
      "    from sklearn.metrics import accuracy_score\n",
      "    accuracies = []\n",
      "    kvals = logspace(1, 14, num=14, base=2.0)  # k = 2, 4, 8, 16, ...\n",
      "    kvals = append(kvals, [unigram_train_X.shape[1]])\n",
      "    for k in kvals:\n",
      "        unigram_predict_y = select_classify(classifier, k)\n",
      "        accuracies.append(accuracy_score(unigram_test_y, unigram_predict_y) * 100)\n",
      "    \n",
      "    plot(kvals, accuracies)\n",
      "    xscale('log')\n",
      "    xlim([0, unigram_train_X.shape[1]])\n",
      "    xlabel('Number of features')\n",
      "    ylabel('Accuracy (%)')\n",
      "    title('{0} Behaviour with Different no of Features'.format(classifier_name))"
     ],
     "language": "python",
     "metadata": {},
     "outputs": [],
     "prompt_number": 16
    },
    {
     "cell_type": "markdown",
     "metadata": {},
     "source": [
      "###Classifier 1: K-Nearest Neighbours"
     ]
    },
    {
     "cell_type": "markdown",
     "metadata": {},
     "source": [
      "We now train and use the KNN classifier."
     ]
    },
    {
     "cell_type": "code",
     "collapsed": false,
     "input": [
      "from sklearn.neighbors import KNeighborsClassifier\n",
      "\n",
      "unigram_knn = KNeighborsClassifier()\n",
      "unigram_predict_y = classify(unigram_knn)"
     ],
     "language": "python",
     "metadata": {},
     "outputs": [],
     "prompt_number": 17
    },
    {
     "cell_type": "markdown",
     "metadata": {},
     "source": [
      "The following are the results:"
     ]
    },
    {
     "cell_type": "code",
     "collapsed": false,
     "input": [
      "unigram_knn_accuracy = accuracy()"
     ],
     "language": "python",
     "metadata": {},
     "outputs": [
      {
       "output_type": "stream",
       "stream": "stdout",
       "text": [
        "Accuracy: 57.4%\n",
        "             precision    recall  f1-score   support\n",
        "\n",
        "        neg       0.62      0.39      0.48       500\n",
        "        pos       0.55      0.76      0.64       500\n",
        "\n",
        "avg / total       0.59      0.57      0.56      1000\n",
        "\n"
       ]
      }
     ],
     "prompt_number": 18
    },
    {
     "cell_type": "markdown",
     "metadata": {},
     "source": [
      "An experiment: we try varying the number of features used and compute the accuracies obtained."
     ]
    },
    {
     "cell_type": "code",
     "collapsed": false,
     "input": [
      "from sklearn.neighbors import KNeighborsClassifier\n",
      "from sklearn.metrics import accuracy_score\n",
      "\n",
      "unigram_knn = KNeighborsClassifier()\n",
      "\n",
      "compare_feature_performance(unigram_knn, 'K-Nearest Neighbour Classifier')"
     ],
     "language": "python",
     "metadata": {},
     "outputs": [
      {
       "output_type": "display_data",
       "png": "[encoded data removed]"
      }
     ],
     "prompt_number": 20
    },
    {
     "cell_type": "markdown",
     "metadata": {},
     "source": [
      "From the above output we can conclude that the K-Nearest Neighbours classifier performs poorly when the number of features is either a) too low or b) too high. A possible reason is that too few features don't cover enough information and thus have low recall, while too many features add not just the required information but also additional noise, thus affecting the precision.\n",
      "\n",
      "The best results are obtained for a number of features at around 100."
     ]
    },
    {
     "cell_type": "markdown",
     "metadata": {},
     "source": [
      "An additional experiment: setting the number of features at 100, we vary the value of $k$."
     ]
    },
    {
     "cell_type": "code",
     "collapsed": false,
     "input": [
      "from sklearn.neighbors import KNeighborsClassifier\n",
      "from sklearn.metrics import accuracy_score\n",
      "\n",
      "kvals = range(1, 400, 6)\n",
      "accuracies = []\n",
      "\n",
      "for k in kvals:\n",
      "    unigram_knn = KNeighborsClassifier(k)\n",
      "    unigram_predict_y = select_classify(unigram_knn, 100)\n",
      "    accuracies.append(accuracy_score(unigram_test_y, unigram_predict_y) * 100)\n",
      "    \n",
      "plot(kvals, accuracies)\n",
      "xlabel('k')\n",
      "ylabel('Accuracy (%)')\n",
      "title('K-Nearest Classifier Behaviour with Different Values of k')"
     ],
     "language": "python",
     "metadata": {},
     "outputs": [
      {
       "output_type": "pyout",
       "prompt_number": 21,
       "text": [
        "<matplotlib.text.Text at 0x7fc9e0f6e950>"
       ]
      },
      {
       "output_type": "display_data",
       "png": "[encoded data removed]"
      }
     ],
     "prompt_number": 21
    },
    {
     "cell_type": "markdown",
     "metadata": {},
     "source": [
      "From the above experiment, we observe that the accuracy steadily increases upto $k = 150$. Here the increase in accuracy is about 4% compared to the default $k=5$. However, after that the benefits of increasing $k$ values begins to dry off as the accuracy stagnates at 74 to 75%."
     ]
    },
    {
     "cell_type": "markdown",
     "metadata": {},
     "source": [
      "Thus we calculate a final number for accuracy, taking $k=150$ with 100 features."
     ]
    },
    {
     "cell_type": "code",
     "collapsed": false,
     "input": [
      "from sklearn.neighbors import KNeighborsClassifier\n",
      "\n",
      "unigram_knn = KNeighborsClassifier(150)\n",
      "unigram_predict_y = select_classify(unigram_knn, 100)\n",
      "\n",
      "unigram_knn_accuracy = accuracy()"
     ],
     "language": "python",
     "metadata": {},
     "outputs": [
      {
       "output_type": "stream",
       "stream": "stdout",
       "text": [
        "Accuracy: 74.8%\n",
        "             precision    recall  f1-score   support\n",
        "\n",
        "        neg       0.80      0.66      0.72       500\n",
        "        pos       0.71      0.84      0.77       500\n",
        "\n",
        "avg / total       0.76      0.75      0.75      1000\n",
        "\n"
       ]
      }
     ],
     "prompt_number": 22
    },
    {
     "cell_type": "markdown",
     "metadata": {},
     "source": [
      "###Classifier 2: Naive Bayes"
     ]
    },
    {
     "cell_type": "markdown",
     "metadata": {},
     "source": [
      "We now train and use the Bernoulli Naive Bayes classifier."
     ]
    },
    {
     "cell_type": "code",
     "collapsed": false,
     "input": [
      "from sklearn.naive_bayes import BernoulliNB\n",
      "\n",
      "unigram_nb = BernoulliNB(binarize=None)\n",
      "unigram_predict_y = classify(unigram_nb)"
     ],
     "language": "python",
     "metadata": {},
     "outputs": [],
     "prompt_number": 23
    },
    {
     "cell_type": "markdown",
     "metadata": {},
     "source": [
      "The following are the results:"
     ]
    },
    {
     "cell_type": "code",
     "collapsed": false,
     "input": [
      "unigram_nb_accuracy = accuracy()"
     ],
     "language": "python",
     "metadata": {},
     "outputs": [
      {
       "output_type": "stream",
       "stream": "stdout",
       "text": [
        "Accuracy: 71.5%\n",
        "             precision    recall  f1-score   support\n",
        "\n",
        "        neg       0.65      0.92      0.76       500\n",
        "        pos       0.87      0.51      0.64       500\n",
        "\n",
        "avg / total       0.76      0.71      0.70      1000\n",
        "\n"
       ]
      }
     ],
     "prompt_number": 24
    },
    {
     "cell_type": "code",
     "collapsed": false,
     "input": [
      "from sklearn.naive_bayes import BernoulliNB\n",
      "\n",
      "unigram_nb = BernoulliNB(binarize=None)\n",
      "\n",
      "compare_feature_performance(unigram_nb, 'Naive Bayes Classifier')"
     ],
     "language": "python",
     "metadata": {},
     "outputs": [
      {
       "output_type": "display_data",
       "png": "[encoded data removed]"
      }
     ],
     "prompt_number": 25
    },
    {
     "cell_type": "markdown",
     "metadata": {},
     "source": [
      "This shows that the Naive Bayes classifier, like the K-Nearest classifier, enjoys an increase in accuracy after pruning of some unnecessary features. While the absolute increase in accuracy is not as high as KNN, it still is reasonably high at about 7%. Again the best values occur at about 100 features."
     ]
    },
    {
     "cell_type": "markdown",
     "metadata": {},
     "source": [
      "Thus we calculate a final number for accuracy taking 100 features."
     ]
    },
    {
     "cell_type": "code",
     "collapsed": false,
     "input": [
      "from sklearn.naive_bayes import BernoulliNB\n",
      "\n",
      "unigram_nb = BernoulliNB(binarize=None)\n",
      "unigram_predict_y = select_classify(unigram_nb, 100)\n",
      "\n",
      "unigram_nb_accuracy = accuracy()"
     ],
     "language": "python",
     "metadata": {},
     "outputs": [
      {
       "output_type": "stream",
       "stream": "stdout",
       "text": [
        "Accuracy: 75.8%\n",
        "             precision    recall  f1-score   support\n",
        "\n",
        "        neg       0.72      0.86      0.78       500\n",
        "        pos       0.82      0.66      0.73       500\n",
        "\n",
        "avg / total       0.77      0.76      0.76      1000\n",
        "\n"
       ]
      }
     ],
     "prompt_number": 26
    },
    {
     "cell_type": "markdown",
     "metadata": {},
     "source": [
      "###Classifier 3: Perceptron"
     ]
    },
    {
     "cell_type": "code",
     "collapsed": false,
     "input": [
      "from sklearn.linear_model import Perceptron\n",
      "\n",
      "unigram_perceptron = Perceptron()\n",
      "unigram_predict_y = classify(unigram_perceptron)"
     ],
     "language": "python",
     "metadata": {},
     "outputs": [],
     "prompt_number": 27
    },
    {
     "cell_type": "code",
     "collapsed": false,
     "input": [
      "unigram_perceptron_accuracy = accuracy()"
     ],
     "language": "python",
     "metadata": {},
     "outputs": [
      {
       "output_type": "stream",
       "stream": "stdout",
       "text": [
        "Accuracy: 78.3%\n",
        "             precision    recall  f1-score   support\n",
        "\n",
        "        neg       0.74      0.87      0.80       500\n",
        "        pos       0.84      0.70      0.76       500\n",
        "\n",
        "avg / total       0.79      0.78      0.78      1000\n",
        "\n"
       ]
      }
     ],
     "prompt_number": 28
    },
    {
     "cell_type": "code",
     "collapsed": false,
     "input": [
      "from sklearn.linear_model import Perceptron\n",
      "\n",
      "unigram_perceptron = Perceptron()\n",
      "\n",
      "compare_feature_performance(unigram_perceptron, 'Perceptron Classifier')"
     ],
     "language": "python",
     "metadata": {},
     "outputs": [
      {
       "output_type": "display_data",
       "png": "[encoded data removed]"
      }
     ],
     "prompt_number": 29
    },
    {
     "cell_type": "markdown",
     "metadata": {},
     "source": [
      "This shows that, unlike the previous classifiers, the performance of Perceptrons actually improves the more features are added. Thus, perceptrons demonstrate a capability to filter out noisy features. In fact, for an extremely low number of features, the accuracy is literally equivalent to random chance (50%)."
     ]
    },
    {
     "cell_type": "markdown",
     "metadata": {},
     "source": [
      "Thus, here the final number for the accuracy stays the same as the initial number."
     ]
    },
    {
     "cell_type": "markdown",
     "metadata": {},
     "source": [
      "###Classifier 4: Decision Tree"
     ]
    },
    {
     "cell_type": "code",
     "collapsed": false,
     "input": [
      "from sklearn.tree import DecisionTreeClassifier\n",
      "\n",
      "unigram_dt = DecisionTreeClassifier(max_features=\"auto\") # By default no of features = sqrt(total no of features)\n",
      "unigram_dt.fit(unigram_train_X.toarray(), unigram_train_y) # Can't use generic method as decision tree requires dense arrays\n",
      "\n",
      "unigram_predict_y = unigram_dt.predict(unigram_test_X.toarray())"
     ],
     "language": "python",
     "metadata": {},
     "outputs": [],
     "prompt_number": 30
    },
    {
     "cell_type": "code",
     "collapsed": false,
     "input": [
      "unigram_dt_accuracy = accuracy()"
     ],
     "language": "python",
     "metadata": {},
     "outputs": [
      {
       "output_type": "stream",
       "stream": "stdout",
       "text": [
        "Accuracy: 59.199999999999996%\n",
        "             precision    recall  f1-score   support\n",
        "\n",
        "        neg       0.58      0.64      0.61       500\n",
        "        pos       0.60      0.55      0.57       500\n",
        "\n",
        "avg / total       0.59      0.59      0.59      1000\n",
        "\n"
       ]
      }
     ],
     "prompt_number": 31
    },
    {
     "cell_type": "markdown",
     "metadata": {},
     "source": [
      "###Classifier 5: SVM"
     ]
    },
    {
     "cell_type": "code",
     "collapsed": false,
     "input": [
      "from sklearn.svm import SVC\n",
      "\n",
      "unigram_svm = SVC(kernel='linear')\n",
      "unigram_predict_y = classify(unigram_svm)"
     ],
     "language": "python",
     "metadata": {},
     "outputs": [],
     "prompt_number": 33
    },
    {
     "cell_type": "code",
     "collapsed": false,
     "input": [
      "unigram_svm_accuracy = accuracy()"
     ],
     "language": "python",
     "metadata": {},
     "outputs": [
      {
       "output_type": "stream",
       "stream": "stdout",
       "text": [
        "Accuracy: 79.7%\n",
        "             precision    recall  f1-score   support\n",
        "\n",
        "        neg       0.77      0.86      0.81       500\n",
        "        pos       0.84      0.74      0.78       500\n",
        "\n",
        "avg / total       0.80      0.80      0.80      1000\n",
        "\n"
       ]
      }
     ],
     "prompt_number": 34
    },
    {
     "cell_type": "code",
     "collapsed": false,
     "input": [
      "from sklearn.svm import LinearSVC\n",
      "\n",
      "unigram_linsvm = LinearSVC()\n",
      "unigram_predict_y = classify(unigram_linsvm)"
     ],
     "language": "python",
     "metadata": {},
     "outputs": [],
     "prompt_number": 35
    },
    {
     "cell_type": "code",
     "collapsed": false,
     "input": [
      "unigram_linsvm_accuracy = accuracy()"
     ],
     "language": "python",
     "metadata": {},
     "outputs": [
      {
       "output_type": "stream",
       "stream": "stdout",
       "text": [
        "Accuracy: 79.80000000000001%\n",
        "             precision    recall  f1-score   support\n",
        "\n",
        "        neg       0.77      0.85      0.81       500\n",
        "        pos       0.84      0.74      0.79       500\n",
        "\n",
        "avg / total       0.80      0.80      0.80      1000\n",
        "\n"
       ]
      }
     ],
     "prompt_number": 36
    },
    {
     "cell_type": "markdown",
     "metadata": {},
     "source": [
      "According to basic profiling experiments, `LinearSVC` provides a 1400% speedup over `SVC` with `kernel='linear'` (1.24 sec vs. 17.6 sec), with comparable accuracy figures. Hence, in all future experiments, `LinearSVC` will be used."
     ]
    },
    {
     "cell_type": "code",
     "collapsed": false,
     "input": [
      "from sklearn.svm import LinearSVC\n",
      "\n",
      "unigram_linsvm = LinearSVC()\n",
      "\n",
      "compare_feature_performance(unigram_linsvm, 'SVM Classifier')"
     ],
     "language": "python",
     "metadata": {},
     "outputs": [
      {
       "output_type": "display_data",
       "png": "[encoded data removed]"
      }
     ],
     "prompt_number": 37
    },
    {
     "cell_type": "markdown",
     "metadata": {},
     "source": [
      "Like Perceptron, the performance of SVM continues to improve when the number of features supplied to the classifier is increased. This lends credence to the view of SVM working better in high-dimensional spaces."
     ]
    },
    {
     "cell_type": "markdown",
     "metadata": {},
     "source": [
      "Thus, like perceptron, the final accuracy value for SVM remains unchanged."
     ]
    },
    {
     "cell_type": "markdown",
     "metadata": {},
     "source": [
      "Note that other SVM kernels (`poly`, `sigmoid`, `rbf`) give extremely poor performance with accuracies dropping to random chance. Hence they are not shown here and will not be used henceforth."
     ]
    },
    {
     "cell_type": "markdown",
     "metadata": {},
     "source": [
      "###Classifier 6: Stochastic Gradient Descent"
     ]
    },
    {
     "cell_type": "markdown",
     "metadata": {},
     "source": [
      "####a) Stochastic Gradient Descent with Hinge Loss\n",
      "This is the loss function used by linear SVM."
     ]
    },
    {
     "cell_type": "code",
     "collapsed": false,
     "input": [
      "from sklearn.linear_model import SGDClassifier\n",
      "\n",
      "unigram_sgd_hinge = SGDClassifier(shuffle=True)\n",
      "unigram_predict_y = classify(unigram_sgd_hinge)"
     ],
     "language": "python",
     "metadata": {},
     "outputs": [],
     "prompt_number": 38
    },
    {
     "cell_type": "code",
     "collapsed": false,
     "input": [
      "unigram_sgd_hinge_accuracy = accuracy()"
     ],
     "language": "python",
     "metadata": {},
     "outputs": [
      {
       "output_type": "stream",
       "stream": "stdout",
       "text": [
        "Accuracy: 79.10000000000001%\n",
        "             precision    recall  f1-score   support\n",
        "\n",
        "        neg       0.76      0.86      0.80       500\n",
        "        pos       0.83      0.73      0.78       500\n",
        "\n",
        "avg / total       0.80      0.79      0.79      1000\n",
        "\n"
       ]
      }
     ],
     "prompt_number": 39
    },
    {
     "cell_type": "code",
     "collapsed": false,
     "input": [
      "from sklearn.linear_model import SGDClassifier\n",
      "\n",
      "unigram_sgd_hinge = SGDClassifier(shuffle=True)\n",
      "\n",
      "compare_feature_performance(unigram_sgd_hinge, 'Hinge Loss SGD Classifier')"
     ],
     "language": "python",
     "metadata": {},
     "outputs": [
      {
       "output_type": "display_data",
       "png": "[encoded data removed]"
      }
     ],
     "prompt_number": 40
    },
    {
     "cell_type": "markdown",
     "metadata": {},
     "source": [
      "The similarities to SVM are evident as the accuracy increases with the number of features."
     ]
    },
    {
     "cell_type": "markdown",
     "metadata": {},
     "source": [
      "Thus, the final accuracy remains the same as the initial accuracy."
     ]
    },
    {
     "cell_type": "markdown",
     "metadata": {},
     "source": [
      "####b) Stochastic Gradient Descent with Modified Huber Loss\n",
      "This is a smoothed version of hinge loss."
     ]
    },
    {
     "cell_type": "code",
     "collapsed": false,
     "input": [
      "from sklearn.linear_model import SGDClassifier\n",
      "\n",
      "unigram_sgd_huber = SGDClassifier(loss='modified_huber', shuffle=True)\n",
      "unigram_predict_y = classify(unigram_sgd_huber)"
     ],
     "language": "python",
     "metadata": {},
     "outputs": [],
     "prompt_number": 41
    },
    {
     "cell_type": "code",
     "collapsed": false,
     "input": [
      "unigram_sgd_huber_accuracy = accuracy()"
     ],
     "language": "python",
     "metadata": {},
     "outputs": [
      {
       "output_type": "stream",
       "stream": "stdout",
       "text": [
        "Accuracy: 78.5%\n",
        "             precision    recall  f1-score   support\n",
        "\n",
        "        neg       0.78      0.79      0.79       500\n",
        "        pos       0.79      0.78      0.78       500\n",
        "\n",
        "avg / total       0.79      0.79      0.78      1000\n",
        "\n"
       ]
      }
     ],
     "prompt_number": 42
    },
    {
     "cell_type": "code",
     "collapsed": false,
     "input": [
      "from sklearn.linear_model import SGDClassifier\n",
      "\n",
      "unigram_sgd_huber = SGDClassifier(loss='modified_huber', shuffle=True)\n",
      "\n",
      "compare_feature_performance(unigram_sgd_huber, 'Huber SGD Classifier')"
     ],
     "language": "python",
     "metadata": {},
     "outputs": [
      {
       "output_type": "display_data",
       "png": "[encoded data removed]"
      }
     ],
     "prompt_number": 43
    },
    {
     "cell_type": "markdown",
     "metadata": {},
     "source": [
      "Again, the general trend is of a continuous increase in the accuracy with the number of features."
     ]
    },
    {
     "cell_type": "markdown",
     "metadata": {},
     "source": [
      "Thus, the final accuracy remains the same as the initial accuracy."
     ]
    },
    {
     "cell_type": "markdown",
     "metadata": {},
     "source": [
      "A comparison of the final accuracies of the various algorithms can be seen in the graph below."
     ]
    },
    {
     "cell_type": "code",
     "collapsed": false,
     "input": [
      "names = ['KNN', 'NB', 'Perceptron', 'DT', 'SVM', 'SGD-Hinge', 'SGD-Huber']\n",
      "accuracies = [unigram_knn_accuracy, unigram_nb_accuracy, unigram_perceptron_accuracy, unigram_dt_accuracy, unigram_linsvm_accuracy, unigram_sgd_hinge_accuracy, unigram_sgd_huber_accuracy]\n",
      "\n",
      "bar(arange(0.25, 7.25), accuracies, width=0.5)\n",
      "xticks(arange(0.5,7.5), names)\n",
      "xlabel('Algorithm')\n",
      "ylabel('Accuracy %')\n",
      "title('Algorithm Comparison for Unigram Presence')"
     ],
     "language": "python",
     "metadata": {},
     "outputs": [
      {
       "output_type": "pyout",
       "prompt_number": 44,
       "text": [
        "<matplotlib.text.Text at 0x7fc9e0c15f50>"
       ]
      },
      {
       "output_type": "display_data",
       "png": "[encoded data removed]"
      }
     ],
     "prompt_number": 44
    },
    {
     "cell_type": "markdown",
     "metadata": {},
     "source": [
      "TO-DO:\n",
      "\n",
      "<ul>\n",
      "    <li>Select and view best performing features</li>\n",
      "    <li>Compute avg and errorbars for SGD</li>\n",
      "</ul>"
     ]
    }
   ],
   "metadata": {}
  }
 ]
}