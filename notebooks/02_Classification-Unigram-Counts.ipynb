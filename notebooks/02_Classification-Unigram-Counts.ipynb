{
 "metadata": {
  "name": "02_Classification-Unigram-Counts"
 },
 "nbformat": 3,
 "nbformat_minor": 0,
 "worksheets": [
  {
   "cells": [
    {
     "cell_type": "markdown",
     "metadata": {},
     "source": [
      "##Feature 2: Counts\n",
      "\n",
      "This feature uses a bag-of-words approach. However, in this case, the number of times a particular word occurs is considered as a feature. The following classification algorithms are covered:\n",
      "\n",
      "<ul>\n",
      "    <li>K-Nearest Neighbours</li>\n",
      "    <li>Naive Bayes</li>\n",
      "    <li>Perceptron</li>\n",
      "    <li>Linear SVM</li>\n",
      "</ul>"
     ]
    },
    {
     "cell_type": "markdown",
     "metadata": {},
     "source": [
      "###Imports"
     ]
    },
    {
     "cell_type": "code",
     "collapsed": false,
     "input": [
      "from sklearn import datasets"
     ],
     "language": "python",
     "metadata": {},
     "outputs": [],
     "prompt_number": 1
    },
    {
     "cell_type": "code",
     "collapsed": false,
     "input": [
      "%pylab inline"
     ],
     "language": "python",
     "metadata": {},
     "outputs": [
      {
       "output_type": "stream",
       "stream": "stdout",
       "text": [
        "\n",
        "Welcome to pylab, a matplotlib-based Python environment [backend: module://IPython.zmq.pylab.backend_inline].\n",
        "For more information, type 'help(pylab)'.\n"
       ]
      }
     ],
     "prompt_number": 2
    },
    {
     "cell_type": "markdown",
     "metadata": {},
     "source": [
      "###Initialization\n",
      "\n",
      "The code below loads the appropriate data. First set the appropriate location where the data resides using the `datapath` variable."
     ]
    },
    {
     "cell_type": "code",
     "collapsed": false,
     "input": [
      "# Set the path where the data resides\n",
      "datapath = \"../data/small/\""
     ],
     "language": "python",
     "metadata": {},
     "outputs": [],
     "prompt_number": 3
    },
    {
     "cell_type": "code",
     "collapsed": false,
     "input": [
      "# Load train set\n",
      "train_set_location = \"{0}train\".format(datapath)\n",
      "train_set = datasets.load_files(train_set_location)\n",
      "\n",
      "# Load test set\n",
      "test_set_location = \"{0}test\".format(datapath)\n",
      "test_set = datasets.load_files(test_set_location)"
     ],
     "language": "python",
     "metadata": {},
     "outputs": [],
     "prompt_number": 4
    },
    {
     "cell_type": "markdown",
     "metadata": {},
     "source": [
      "Some verifications:"
     ]
    },
    {
     "cell_type": "code",
     "collapsed": false,
     "input": [
      "# Size of the training set\n",
      "print(len(train_set.data))"
     ],
     "language": "python",
     "metadata": {},
     "outputs": [
      {
       "output_type": "stream",
       "stream": "stdout",
       "text": [
        "2000\n"
       ]
      }
     ],
     "prompt_number": 5
    },
    {
     "cell_type": "code",
     "collapsed": false,
     "input": [
      "# Size of the test set\n",
      "print(len(test_set.data))"
     ],
     "language": "python",
     "metadata": {},
     "outputs": [
      {
       "output_type": "stream",
       "stream": "stdout",
       "text": [
        "1000\n"
       ]
      }
     ],
     "prompt_number": 6
    },
    {
     "cell_type": "code",
     "collapsed": false,
     "input": [
      "# Names of the two categories\n",
      "print(train_set.target_names)\n",
      "print(test_set.target_names)"
     ],
     "language": "python",
     "metadata": {},
     "outputs": [
      {
       "output_type": "stream",
       "stream": "stdout",
       "text": [
        "['neg', 'pos']\n",
        "['neg', 'pos']\n"
       ]
      }
     ],
     "prompt_number": 7
    },
    {
     "cell_type": "code",
     "collapsed": false,
     "input": [
      "# An example train review\n",
      "demo_review_index = 35 # Change to view different reviews\n",
      "print(\"The review is {0}\".format(train_set.target_names[train_set.target[demo_review_index]]))\n",
      "print(train_set.data[demo_review_index])\n",
      "\n",
      "del demo_review_index"
     ],
     "language": "python",
     "metadata": {},
     "outputs": [
      {
       "output_type": "stream",
       "stream": "stdout",
       "text": [
        "The review is neg\n",
        "b'The British claymation series putting \"witty\" conversations taped from \"average\" people in the mouths of \"cute\" fanciful creatures at least had the advantage for non-British viewers of seeming droll and the kind of rarefied cultured humor you couldn\\'t get on U.S. television. Someone made the mistake of PUTTING it on U.S. television.<br /><br />Sort of like the sadly miscast American version of the sublime Brit-com COUPLING which died in a month on NBC when the same basic scripts didn\\'t \"translate\" from British English to American English, what seemed droll and cultured (and just a BIT dull) in England, comes across in CREATURE COMFORTS, the American Version, as simply boredom with puppets. There\\'s no through plot-line, no characters and after one and a half episodes watched (of the three ultimately aired), no reason to suffer through more.<br /><br />The only positive thing to be said about the new summer series and the mercifully brief run it had is that the claymation is at least professionally done and coming as a set-up for the single worst show on the CBS schedule, The New Adventures of Old Christine (or \"how to be a HORRIBLE mother - or person - in one interminable, unfunny lesson\"), kids who wanted to stay up past their bedtime happily ran to bed rather than sit through this show, and the adults could wait to tune in until 9pm when \"Two and A Half Men\" (guilty pleasure) and \"How I Met Your Mother\" (actual quality writing) come on.'\n"
       ]
      }
     ],
     "prompt_number": 8
    },
    {
     "cell_type": "markdown",
     "metadata": {},
     "source": [
      "##Data Transformation\n",
      "\n",
      "This is where this notebook differs from `Classification-Unigram-Presence`. The following code transforms the documents into feature vectors representing the number of times a particular word occurs in the document. The `CountVectorizer` from the `sklearn.feature_extraction.text` package is used for this purpose."
     ]
    },
    {
     "cell_type": "code",
     "collapsed": false,
     "input": [
      "from sklearn.feature_extraction.text import CountVectorizer"
     ],
     "language": "python",
     "metadata": {},
     "outputs": [],
     "prompt_number": 9
    },
    {
     "cell_type": "code",
     "collapsed": false,
     "input": [
      "# Create the vectorizer\n",
      "unigram_presence_vectorizer = CountVectorizer()\n",
      "\n",
      "# Fit training data and transform appropriately\n",
      "unigram_train_X = unigram_presence_vectorizer.fit_transform(train_set.data)\n",
      "unigram_train_y = train_set.target\n",
      "\n",
      "# Transform test data according to learnt training vocabulary\n",
      "unigram_test_X = unigram_presence_vectorizer.transform(test_set.data)\n",
      "unigram_test_y = test_set.target"
     ],
     "language": "python",
     "metadata": {},
     "outputs": [],
     "prompt_number": 10
    },
    {
     "cell_type": "markdown",
     "metadata": {},
     "source": [
      "Some verifications:"
     ]
    },
    {
     "cell_type": "code",
     "collapsed": false,
     "input": [
      "print(\"Length of feature vector: {0}\".format(unigram_train_X.shape[1]))\n",
      "\n",
      "word_counts = sum(unigram_train_X.toarray(), 0)\n",
      "\n",
      "# Select the word whose counts you want to view\n",
      "word = 'mistake'\n",
      "index = unigram_presence_vectorizer.vocabulary_.get(word)\n",
      "\n",
      "if index is not None:\n",
      "    print(\"The word '{0}' has occured {1} times.\".format(word, word_counts[index]))"
     ],
     "language": "python",
     "metadata": {},
     "outputs": [
      {
       "output_type": "stream",
       "stream": "stdout",
       "text": [
        "Length of feature vector: 24249\n",
        "The word 'mistake' has occured 41 times."
       ]
      },
      {
       "output_type": "stream",
       "stream": "stdout",
       "text": [
        "\n"
       ]
      }
     ],
     "prompt_number": 11
    },
    {
     "cell_type": "markdown",
     "metadata": {},
     "source": [
      "###Function Setup"
     ]
    },
    {
     "cell_type": "markdown",
     "metadata": {},
     "source": [
      "The following code sets up a function to perform classification. It accepts an estimator object and calls the `fit()` method of that object to learn the training data, and then the `predict()` method, supplying the test data as a parameter. The predicted vectors for the test data are returned."
     ]
    },
    {
     "cell_type": "code",
     "collapsed": false,
     "input": [
      "def classify(classifier):\n",
      "    classifier.fit(unigram_train_X, unigram_train_y)\n",
      "    predicted_y = classifier.predict(unigram_test_X)\n",
      "    \n",
      "    return predicted_y\n",
      "\n",
      "def select_classify(classifier, k):\n",
      "    \n",
      "    # First select\n",
      "    from sklearn.feature_selection import chi2, SelectKBest\n",
      "    selector = SelectKBest(chi2, k)\n",
      "    unigram_seltrain_X = selector.fit_transform(unigram_train_X, unigram_train_y)\n",
      "    \n",
      "    classifier.fit(unigram_seltrain_X, unigram_train_y)\n",
      "    predicted_y = classifier.predict(selector.transform(unigram_test_X))\n",
      "    \n",
      "    return predicted_y"
     ],
     "language": "python",
     "metadata": {},
     "outputs": [],
     "prompt_number": 12
    },
    {
     "cell_type": "markdown",
     "metadata": {},
     "source": [
      "The code below now sets up a function to calculate accuracy values and report the same for the last performed classification."
     ]
    },
    {
     "cell_type": "code",
     "collapsed": false,
     "input": [
      "def accuracy():\n",
      "    from sklearn.metrics import accuracy_score, confusion_matrix, classification_report\n",
      "\n",
      "    acc = accuracy_score(unigram_test_y, unigram_predict_y) * 100\n",
      "    print(\"Accuracy: {0}%\".format(acc))\n",
      "    print(classification_report(unigram_test_y, unigram_predict_y, target_names=test_set.target_names))\n",
      "    \n",
      "    return acc"
     ],
     "language": "python",
     "metadata": {},
     "outputs": [],
     "prompt_number": 13
    },
    {
     "cell_type": "markdown",
     "metadata": {},
     "source": [
      "###Classifier 1: K-Nearest Neighbours"
     ]
    },
    {
     "cell_type": "markdown",
     "metadata": {},
     "source": [
      "We now train and use the K-Nearest Neighbours Classifier."
     ]
    },
    {
     "cell_type": "code",
     "collapsed": false,
     "input": [
      "from sklearn.neighbors import KNeighborsClassifier\n",
      "\n",
      "unigram_knn = KNeighborsClassifier()\n",
      "unigram_predict_y = classify(unigram_knn)"
     ],
     "language": "python",
     "metadata": {},
     "outputs": [],
     "prompt_number": 14
    },
    {
     "cell_type": "code",
     "collapsed": false,
     "input": [
      "unigram_knn_accuracy = accuracy()"
     ],
     "language": "python",
     "metadata": {},
     "outputs": [
      {
       "output_type": "stream",
       "stream": "stdout",
       "text": [
        "Accuracy: 61.1%\n",
        "             precision    recall  f1-score   support\n",
        "\n",
        "        neg       0.60      0.65      0.62       500\n",
        "        pos       0.62      0.57      0.60       500\n",
        "\n",
        "avg / total       0.61      0.61      0.61      1000\n",
        "\n"
       ]
      }
     ],
     "prompt_number": 15
    },
    {
     "cell_type": "markdown",
     "metadata": {},
     "source": [
      "Like we did for unigram presence, we now vary the number of features used by selecting the best-performing features using the $\\chi^2$ test."
     ]
    },
    {
     "cell_type": "code",
     "collapsed": false,
     "input": [
      "from sklearn.neighbors import KNeighborsClassifier\n",
      "from sklearn.metrics import accuracy_score\n",
      "\n",
      "unigram_knn = KNeighborsClassifier()\n",
      "\n",
      "accuracies = []\n",
      "kvals = logspace(1, 14, num=14, base=2.0)  # k = 2, 4, 8, 16, ...\n",
      "kvals = append(kvals, [unigram_train_X.shape[1]])\n",
      "for k in kvals:\n",
      "    unigram_predict_y = select_classify(unigram_knn, k)\n",
      "    accuracies.append(accuracy_score(unigram_test_y, unigram_predict_y) * 100)\n",
      "    \n",
      "plot(kvals, accuracies)\n",
      "xscale('log')\n",
      "xlim([0, unigram_train_X.shape[1]])\n",
      "xlabel('Number of features')\n",
      "ylabel('Accuracy (%)')\n",
      "title('K-Nearest Classifier Behaviour with Different no of Features')"
     ],
     "language": "python",
     "metadata": {},
     "outputs": [
      {
       "output_type": "pyout",
       "prompt_number": 17,
       "text": [
        "<matplotlib.text.Text at 0x7f9e634d2550>"
       ]
      },
      {
       "output_type": "display_data",
       "png": "[encoded data removed]"
      }
     ],
     "prompt_number": 17
    },
    {
     "cell_type": "markdown",
     "metadata": {},
     "source": [
      "Pending further insight, this is an extremely surprising result as this behaviour is the near-opposite of what was encountered on the unigram presence feature. In this case, as the number of features initially increases to about 100, the performance drops sharply, which is actually the point at which performance peaks in unigram presence!\n",
      "\n",
      "**Hypothesis**: While unigram presence ignored the counts, unigram counts takes the counts into consideration which might help as the features appearing at the end are hypothesized to be [hapaxes](http://en.wikipedia.org/wiki/Hapax_legomenon) (frequency=1). While hapaxes do not help in unigram presence as the very fact that they are hapaxes is ignored, they might help in unigram counts."
     ]
    },
    {
     "cell_type": "markdown",
     "metadata": {},
     "source": [
      "An additional experiment: setting the number of features at the maximum value, we vary the value of $k$."
     ]
    },
    {
     "cell_type": "code",
     "collapsed": false,
     "input": [
      "from sklearn.neighbors import KNeighborsClassifier\n",
      "from sklearn.metrics import accuracy_score\n",
      "\n",
      "kvals = range(1, 400, 6)\n",
      "accuracies = []\n",
      "\n",
      "for k in kvals:\n",
      "    unigram_knn = KNeighborsClassifier(k)\n",
      "    unigram_predict_y = classify(unigram_knn)\n",
      "    accuracies.append(accuracy_score(unigram_test_y, unigram_predict_y) * 100)\n",
      "    \n",
      "plot(kvals, accuracies)\n",
      "xlabel('k')\n",
      "ylabel('Accuracy (%)')\n",
      "title('K-Nearest Classifier Behaviour with Different Values of k')"
     ],
     "language": "python",
     "metadata": {},
     "outputs": [
      {
       "output_type": "pyout",
       "prompt_number": 18,
       "text": [
        "<matplotlib.text.Text at 0x7f9e61c2cd90>"
       ]
      },
      {
       "output_type": "display_data",
       "png": "[encoded data removed]"
      }
     ],
     "prompt_number": 18
    },
    {
     "cell_type": "markdown",
     "metadata": {},
     "source": [
      "This behaviour is, again, antithetical to the one observed in unigram presence. While in unigram presence, the accuracy continued to increase upto a certain point and then remained more-or-less constant, here the accuracy actually decreases sharply after about $k=30$, where the accuracy tops at about 66%.\n",
      "\n",
      "**Hypothesis**: This drop in accuracy might be because of additional data adding more noise than valuable information. This is noticed prominently here rather than in unigram presence because unigram counts is itself a highly detailed feature, and moreover, all features (all 24k of them) are used here, while in the case of unigram presence 100 features were shown to perform best."
     ]
    },
    {
     "cell_type": "markdown",
     "metadata": {},
     "source": [
      "Thus we can now calculate an exact final number for the accuracy taking $k=25$."
     ]
    },
    {
     "cell_type": "code",
     "collapsed": false,
     "input": [
      "from sklearn.neighbors import KNeighborsClassifier\n",
      "\n",
      "unigram_knn = KNeighborsClassifier(25)\n",
      "unigram_predict_y = classify(unigram_knn)\n",
      "\n",
      "unigram_knn_accuracy = accuracy()"
     ],
     "language": "python",
     "metadata": {},
     "outputs": [
      {
       "output_type": "stream",
       "stream": "stdout",
       "text": [
        "Accuracy: 65.4%\n",
        "             precision    recall  f1-score   support\n",
        "\n",
        "        neg       0.64      0.70      0.67       500\n",
        "        pos       0.67      0.61      0.64       500\n",
        "\n",
        "avg / total       0.66      0.65      0.65      1000\n",
        "\n"
       ]
      }
     ],
     "prompt_number": 19
    },
    {
     "cell_type": "markdown",
     "metadata": {},
     "source": [
      "###Classifier 2: Naive Bayes"
     ]
    },
    {
     "cell_type": "markdown",
     "metadata": {},
     "source": [
      "We now train and use the Multinomial Naive Bayes classifier."
     ]
    },
    {
     "cell_type": "code",
     "collapsed": false,
     "input": [
      "from sklearn.naive_bayes import MultinomialNB\n",
      "\n",
      "unigram_nb = MultinomialNB()\n",
      "unigram_predict_y = classify(unigram_nb)"
     ],
     "language": "python",
     "metadata": {},
     "outputs": [],
     "prompt_number": 20
    },
    {
     "cell_type": "markdown",
     "metadata": {},
     "source": [
      "The following are the results:"
     ]
    },
    {
     "cell_type": "code",
     "collapsed": false,
     "input": [
      "unigram_nb_accuracy = accuracy()"
     ],
     "language": "python",
     "metadata": {},
     "outputs": [
      {
       "output_type": "stream",
       "stream": "stdout",
       "text": [
        "Accuracy: 75.0%\n",
        "             precision    recall  f1-score   support\n",
        "\n",
        "        neg       0.70      0.88      0.78       500\n",
        "        pos       0.84      0.62      0.71       500\n",
        "\n",
        "avg / total       0.77      0.75      0.75      1000\n",
        "\n"
       ]
      }
     ],
     "prompt_number": 21
    },
    {
     "cell_type": "code",
     "collapsed": false,
     "input": [
      "from sklearn.naive_bayes import MultinomialNB\n",
      "from sklearn.metrics import accuracy_score\n",
      "\n",
      "unigram_nb = MultinomialNB()\n",
      "\n",
      "accuracies = []\n",
      "kvals = logspace(1, 14, num=14, base=2.0)  # k = 2, 4, 8, 16, ...\n",
      "kvals = append(kvals, [unigram_train_X.shape[1]])\n",
      "for k in kvals:\n",
      "    unigram_predict_y = select_classify(unigram_nb, k)\n",
      "    accuracies.append(accuracy_score(unigram_test_y, unigram_predict_y) * 100)\n",
      "    \n",
      "plot(kvals, accuracies)\n",
      "xscale('log')\n",
      "xlim([0, unigram_train_X.shape[1]])\n",
      "xlabel('Number of features')\n",
      "ylabel('Accuracy (%)')\n",
      "title('Naive Bayes Classifier Behaviour with Different no of Features')"
     ],
     "language": "python",
     "metadata": {},
     "outputs": [
      {
       "output_type": "pyout",
       "prompt_number": 22,
       "text": [
        "<matplotlib.text.Text at 0x7f9e61c46890>"
       ]
      },
      {
       "output_type": "display_data",
       "png": "[encoded data removed]"
      }
     ],
     "prompt_number": 22
    },
    {
     "cell_type": "markdown",
     "metadata": {},
     "source": [
      "This behaviour is in line with the K-Nearest Neighbour classifier, which means that this also improves as more features are added, which is the opposite of the behaviour in unigram presence. The hypothesized reason is the same - more complex features require more features for better classification."
     ]
    },
    {
     "cell_type": "markdown",
     "metadata": {},
     "source": [
      "As a result, for Naive Bayes, the final accuracy is unchanged from the initial value."
     ]
    },
    {
     "cell_type": "markdown",
     "metadata": {},
     "source": [
      "###Classifier 3: Perceptron"
     ]
    },
    {
     "cell_type": "code",
     "collapsed": false,
     "input": [
      "from sklearn.linear_model import Perceptron\n",
      "\n",
      "unigram_perceptron = Perceptron()\n",
      "unigram_predict_y = classify(unigram_perceptron)"
     ],
     "language": "python",
     "metadata": {},
     "outputs": [],
     "prompt_number": 23
    },
    {
     "cell_type": "code",
     "collapsed": false,
     "input": [
      "unigram_perceptron_accuracy = accuracy()"
     ],
     "language": "python",
     "metadata": {},
     "outputs": [
      {
       "output_type": "stream",
       "stream": "stdout",
       "text": [
        "Accuracy: 74.9%\n",
        "             precision    recall  f1-score   support\n",
        "\n",
        "        neg       0.72      0.81      0.76       500\n",
        "        pos       0.78      0.69      0.73       500\n",
        "\n",
        "avg / total       0.75      0.75      0.75      1000\n",
        "\n"
       ]
      }
     ],
     "prompt_number": 24
    },
    {
     "cell_type": "code",
     "collapsed": false,
     "input": [
      "from sklearn.linear_model import Perceptron\n",
      "from sklearn.metrics import accuracy_score\n",
      "\n",
      "unigram_perceptron = Perceptron()\n",
      "\n",
      "accuracies = []\n",
      "kvals = logspace(1, 14, num=14, base=2.0)  # k = 2, 4, 8, 16, ...\n",
      "kvals = append(kvals, [unigram_train_X.shape[1]])\n",
      "for k in kvals:\n",
      "    unigram_predict_y = select_classify(unigram_perceptron, k)\n",
      "    accuracies.append(accuracy_score(unigram_test_y, unigram_predict_y) * 100)\n",
      "    \n",
      "plot(kvals, accuracies)\n",
      "xscale('log')\n",
      "xlim([0, unigram_train_X.shape[1]])\n",
      "xlabel('Number of features')\n",
      "ylabel('Accuracy (%)')\n",
      "title('Perceptron Classifier Behaviour with Different no of Features')"
     ],
     "language": "python",
     "metadata": {},
     "outputs": [
      {
       "output_type": "pyout",
       "prompt_number": 25,
       "text": [
        "<matplotlib.text.Text at 0x7f9e61a10ad0>"
       ]
      },
      {
       "output_type": "display_data",
       "png": "[encoded data removed]"
      }
     ],
     "prompt_number": 25
    },
    {
     "cell_type": "markdown",
     "metadata": {},
     "source": [
      "The plot for perceptrons is remarkably jagged with a huge jump noticeable at the 1024 feature mark, which then again reduces after a few more feature additions. The best value can be found at about 2000 features."
     ]
    },
    {
     "cell_type": "markdown",
     "metadata": {},
     "source": [
      "We can thus calculate a final value for the perceptron at 2000 features."
     ]
    },
    {
     "cell_type": "code",
     "collapsed": false,
     "input": [
      "from sklearn.linear_model import Perceptron\n",
      "\n",
      "unigram_perceptron = Perceptron()\n",
      "unigram_predict_y = select_classify(unigram_perceptron, 2000)\n",
      "\n",
      "unigram_perceptron_accuracy = accuracy()"
     ],
     "language": "python",
     "metadata": {},
     "outputs": [
      {
       "output_type": "stream",
       "stream": "stdout",
       "text": [
        "Accuracy: 78.7%\n",
        "             precision    recall  f1-score   support\n",
        "\n",
        "        neg       0.77      0.82      0.79       500\n",
        "        pos       0.80      0.76      0.78       500\n",
        "\n",
        "avg / total       0.79      0.79      0.79      1000\n",
        "\n"
       ]
      }
     ],
     "prompt_number": 26
    },
    {
     "cell_type": "markdown",
     "metadata": {},
     "source": [
      "###Classifier 4: Decision Tree"
     ]
    },
    {
     "cell_type": "code",
     "collapsed": false,
     "input": [
      "from sklearn.tree import DecisionTreeClassifier\n",
      "\n",
      "unigram_dt = DecisionTreeClassifier(max_features=\"auto\") # By default no of features = sqrt(total no of features)\n",
      "unigram_dt.fit(unigram_train_X.toarray(), unigram_train_y) # Can't use generic method as decision tree requires dense arrays\n",
      "\n",
      "unigram_predict_y = unigram_dt.predict(unigram_test_X.toarray())"
     ],
     "language": "python",
     "metadata": {},
     "outputs": [],
     "prompt_number": 27
    },
    {
     "cell_type": "code",
     "collapsed": false,
     "input": [
      "unigram_dt_accuracy = accuracy()"
     ],
     "language": "python",
     "metadata": {},
     "outputs": [
      {
       "output_type": "stream",
       "stream": "stdout",
       "text": [
        "Accuracy: 62.3%\n",
        "             precision    recall  f1-score   support\n",
        "\n",
        "        neg       0.62      0.65      0.63       500\n",
        "        pos       0.63      0.59      0.61       500\n",
        "\n",
        "avg / total       0.62      0.62      0.62      1000\n",
        "\n"
       ]
      }
     ],
     "prompt_number": 28
    }
   ],
   "metadata": {}
  }
 ]
}