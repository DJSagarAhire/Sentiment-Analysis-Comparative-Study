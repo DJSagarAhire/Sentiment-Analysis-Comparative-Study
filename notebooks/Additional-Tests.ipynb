{
 "metadata": {
  "name": ""
 },
 "nbformat": 3,
 "nbformat_minor": 0,
 "worksheets": [
  {
   "cells": [
    {
     "cell_type": "markdown",
     "metadata": {},
     "source": [
      "##Additional Tests\n",
      "\n",
      "This notebook contains additional tests performed on the best-performing methods on the respective features. They are:\n",
      "\n",
      "<ol>\n",
      "    <li>SVM for Unigram Presence</li>\n",
      "    <li>SVM for Unigram Counts</li>\n",
      "    <li>SVM for Bigram Presence</li>\n",
      "    <li>Naive Bayes for Bigram Counts</li>\n",
      "</ol>\n",
      "\n",
      "The additional tests include:\n",
      "\n",
      "<ol>\n",
      "    <li>Effect of Corpus Size on Performance</li>\n",
      "    <li>Effect of Removing Stop-Words</li>\n",
      "</ol>"
     ]
    },
    {
     "cell_type": "markdown",
     "metadata": {},
     "source": [
      "###Imports and Function Setup"
     ]
    },
    {
     "cell_type": "code",
     "collapsed": false,
     "input": [
      "from sklearn import datasets"
     ],
     "language": "python",
     "metadata": {},
     "outputs": [],
     "prompt_number": 1
    },
    {
     "cell_type": "code",
     "collapsed": false,
     "input": [
      "%pylab inline"
     ],
     "language": "python",
     "metadata": {},
     "outputs": [
      {
       "output_type": "stream",
       "stream": "stdout",
       "text": [
        "Populating the interactive namespace from numpy and matplotlib\n"
       ]
      }
     ],
     "prompt_number": 2
    },
    {
     "cell_type": "code",
     "collapsed": false,
     "input": [
      "# Set the path where the data resides\n",
      "datapath = \"../data/movies-english/\""
     ],
     "language": "python",
     "metadata": {},
     "outputs": [],
     "prompt_number": 3
    },
    {
     "cell_type": "code",
     "collapsed": false,
     "input": [
      "# Load train set\n",
      "train_set_location = \"{0}train\".format(datapath)\n",
      "train_set = datasets.load_files(train_set_location)\n",
      "\n",
      "# Load test set\n",
      "test_set_location = \"{0}test\".format(datapath)\n",
      "test_set = datasets.load_files(test_set_location)"
     ],
     "language": "python",
     "metadata": {},
     "outputs": [],
     "prompt_number": 4
    },
    {
     "cell_type": "code",
     "collapsed": false,
     "input": [
      "from sklearn.feature_extraction.text import CountVectorizer, TfidfVectorizer"
     ],
     "language": "python",
     "metadata": {},
     "outputs": [],
     "prompt_number": 5
    },
    {
     "cell_type": "markdown",
     "metadata": {},
     "source": [
      "Function setup:"
     ]
    },
    {
     "cell_type": "code",
     "collapsed": false,
     "input": [
      "def classify(classifier):\n",
      "    classifier.fit(train_X, train_y)\n",
      "    predicted_y = classifier.predict(test_X)\n",
      "    \n",
      "    return predicted_y\n",
      "\n",
      "def select_classify(classifier, k):\n",
      "    \n",
      "    # First select\n",
      "    from sklearn.feature_selection import chi2, SelectKBest\n",
      "    selector = SelectKBest(chi2, k)\n",
      "    unigram_seltrain_X = selector.fit_transform(train_X, train_y)\n",
      "    \n",
      "    classifier.fit(unigram_seltrain_X, train_y)\n",
      "    predicted_y = classifier.predict(selector.transform(test_X))\n",
      "    \n",
      "    return predicted_y"
     ],
     "language": "python",
     "metadata": {},
     "outputs": [],
     "prompt_number": 6
    },
    {
     "cell_type": "code",
     "collapsed": false,
     "input": [
      "def accuracy():\n",
      "    from sklearn.metrics import accuracy_score, confusion_matrix, classification_report\n",
      "\n",
      "    acc = accuracy_score(test_y, predict_y) * 100\n",
      "    print(\"Accuracy: {0}%\".format(acc))\n",
      "    print(classification_report(test_y, predict_y, target_names=test_set.target_names))\n",
      "    \n",
      "    return acc"
     ],
     "language": "python",
     "metadata": {},
     "outputs": [],
     "prompt_number": 7
    },
    {
     "cell_type": "markdown",
     "metadata": {},
     "source": [
      "###Effect of Corpus Size\n",
      "\n",
      "In this test we change the number of documents in the corpus and observe the effect this has on the accuracy. The number of test documents is always 50% of the number of training documents. Test values for the number of training documents are 200, 400, 800, 2000 and 25000."
     ]
    },
    {
     "cell_type": "markdown",
     "metadata": {},
     "source": [
      "Setting up the corpora:"
     ]
    },
    {
     "cell_type": "code",
     "collapsed": false,
     "input": [
      "corpuslist = [dict() for x in range(6)]\n",
      "\n",
      "corpuslist[0] = {'path': '../data/movies-english-50/', 'size': 100}\n",
      "corpuslist[1] = {'path': '../data/movies-english-100/', 'size': 200}\n",
      "corpuslist[2] = {'path': '../data/movies-english-200/', 'size': 400}\n",
      "corpuslist[3] = {'path': '../data/movies-english-400/', 'size': 800}\n",
      "corpuslist[4] = {'path': '../data/movies-english/', 'size': 2000}\n",
      "corpuslist[5] = {'path': '../data/movies-english-full/', 'size': 25000}\n",
      "\n",
      "size_list = [100, 200, 400, 800, 2000, 25000]"
     ],
     "language": "python",
     "metadata": {},
     "outputs": [],
     "prompt_number": 8
    },
    {
     "cell_type": "markdown",
     "metadata": {},
     "source": [
      "Loading all the corpora:"
     ]
    },
    {
     "cell_type": "code",
     "collapsed": false,
     "input": [
      "train_set_list = []\n",
      "test_set_list = []\n",
      "for i in range(6):\n",
      "    # Load train set\n",
      "    train_set_location = \"{0}train\".format(corpuslist[i]['path'])\n",
      "    train_set_list.append(datasets.load_files(train_set_location))\n",
      "    \n",
      "    # Load test set\n",
      "    test_set_location = \"{0}test\".format(corpuslist[i]['path'])\n",
      "    test_set_list.append(datasets.load_files(test_set_location))\n",
      "    \n",
      "    print(\"Corpus {0} loaded.\".format(corpuslist[i]['path']))\n",
      "    print(\"Size of training set: {0}\".format(len(train_set_list[i].data)))"
     ],
     "language": "python",
     "metadata": {},
     "outputs": [
      {
       "output_type": "stream",
       "stream": "stdout",
       "text": [
        "Corpus ../data/movies-english-50/ loaded.\n",
        "Size of training set: 100\n",
        "Corpus ../data/movies-english-100/ loaded."
       ]
      },
      {
       "output_type": "stream",
       "stream": "stdout",
       "text": [
        "\n",
        "Size of training set: 200\n",
        "Corpus ../data/movies-english-200/ loaded."
       ]
      },
      {
       "output_type": "stream",
       "stream": "stdout",
       "text": [
        "\n",
        "Size of training set: 400\n",
        "Corpus ../data/movies-english-400/ loaded."
       ]
      },
      {
       "output_type": "stream",
       "stream": "stdout",
       "text": [
        "\n",
        "Size of training set: 800\n",
        "Corpus ../data/movies-english/ loaded."
       ]
      },
      {
       "output_type": "stream",
       "stream": "stdout",
       "text": [
        "\n",
        "Size of training set: 2000\n",
        "Corpus ../data/movies-english-full/ loaded."
       ]
      },
      {
       "output_type": "stream",
       "stream": "stdout",
       "text": [
        "\n",
        "Size of training set: 25000\n"
       ]
      }
     ],
     "prompt_number": 9
    },
    {
     "cell_type": "markdown",
     "metadata": {},
     "source": [
      "####Unigram Presence with SVM"
     ]
    },
    {
     "cell_type": "code",
     "collapsed": false,
     "input": [
      "from sklearn.svm import LinearSVC\n",
      "unigram_linsvm = LinearSVC()"
     ],
     "language": "python",
     "metadata": {},
     "outputs": [],
     "prompt_number": 10
    },
    {
     "cell_type": "code",
     "collapsed": false,
     "input": [
      "accuracy_list = []\n",
      "\n",
      "for i in range(6):\n",
      "    \n",
      "    # Vectorize respective corpus\n",
      "    unigram_presence_vectorizer = CountVectorizer(binary=True)\n",
      "    train_X = unigram_presence_vectorizer.fit_transform(train_set_list[i].data)\n",
      "    train_y = train_set_list[i].target\n",
      "    test_X = unigram_presence_vectorizer.transform(test_set_list[i].data)\n",
      "    test_y = test_set_list[i].target\n",
      "    \n",
      "    # Run classifier\n",
      "    print(\"Classifying corpus {0}\".format(corpuslist[i]['path']))\n",
      "    predict_y = classify(unigram_linsvm)\n",
      "    accuracy_list.append(accuracy())"
     ],
     "language": "python",
     "metadata": {},
     "outputs": [
      {
       "output_type": "stream",
       "stream": "stdout",
       "text": [
        "Classifying corpus ../data/movies-english-50/\n",
        "Accuracy: 52.0%\n",
        "             precision    recall  f1-score   support\n",
        "\n",
        "        neg       0.51      0.76      0.61        25\n",
        "        pos       0.54      0.28      0.37        25\n",
        "\n",
        "avg / total       0.53      0.52      0.49        50\n",
        "\n",
        "Classifying corpus ../data/movies-english-100/"
       ]
      },
      {
       "output_type": "stream",
       "stream": "stdout",
       "text": [
        "\n",
        "Accuracy: 53.0%\n",
        "             precision    recall  f1-score   support\n",
        "\n",
        "        neg       0.52      0.76      0.62        50\n",
        "        pos       0.56      0.30      0.39        50\n",
        "\n",
        "avg / total       0.54      0.53      0.50       100\n",
        "\n",
        "Classifying corpus ../data/movies-english-200/"
       ]
      },
      {
       "output_type": "stream",
       "stream": "stdout",
       "text": [
        "\n",
        "Accuracy: 63.0%\n",
        "             precision    recall  f1-score   support\n",
        "\n",
        "        neg       0.61      0.74      0.67       100\n",
        "        pos       0.67      0.52      0.58       100\n",
        "\n",
        "avg / total       0.64      0.63      0.63       200\n",
        "\n",
        "Classifying corpus ../data/movies-english-400/"
       ]
      },
      {
       "output_type": "stream",
       "stream": "stdout",
       "text": [
        "\n",
        "Accuracy: 71.0%"
       ]
      },
      {
       "output_type": "stream",
       "stream": "stdout",
       "text": [
        "\n",
        "             precision    recall  f1-score   support\n",
        "\n",
        "        neg       0.69      0.75      0.72       200\n",
        "        pos       0.73      0.67      0.70       200\n",
        "\n",
        "avg / total       0.71      0.71      0.71       400\n",
        "\n",
        "Classifying corpus ../data/movies-english/"
       ]
      },
      {
       "output_type": "stream",
       "stream": "stdout",
       "text": [
        "\n",
        "Accuracy: 79.80000000000001%"
       ]
      },
      {
       "output_type": "stream",
       "stream": "stdout",
       "text": [
        "\n",
        "             precision    recall  f1-score   support\n",
        "\n",
        "        neg       0.77      0.85      0.81       500\n",
        "        pos       0.84      0.74      0.79       500\n",
        "\n",
        "avg / total       0.80      0.80      0.80      1000\n",
        "\n",
        "Classifying corpus ../data/movies-english-full/"
       ]
      },
      {
       "output_type": "stream",
       "stream": "stdout",
       "text": [
        "\n",
        "Accuracy: 84.86399999999999%"
       ]
      },
      {
       "output_type": "stream",
       "stream": "stdout",
       "text": [
        "\n",
        "             precision    recall  f1-score   support\n",
        "\n",
        "        neg       0.84      0.86      0.85      6250\n",
        "        pos       0.85      0.84      0.85      6250\n",
        "\n",
        "avg / total       0.85      0.85      0.85     12500\n",
        "\n"
       ]
      }
     ],
     "prompt_number": 11
    },
    {
     "cell_type": "code",
     "collapsed": false,
     "input": [
      "plot(size_list, accuracy_list)\n",
      "xscale('log')\n",
      "xlim([0, 25000])\n",
      "xlabel('Corpus Size (No of training documents)')\n",
      "ylabel('Accuracy (%)')\n",
      "title('SVM Classifier Accuracy vs. Corpus Size for Bigram Presence')"
     ],
     "language": "python",
     "metadata": {},
     "outputs": [
      {
       "metadata": {},
       "output_type": "pyout",
       "prompt_number": 12,
       "text": [
        "<matplotlib.text.Text at 0x7f6d57403150>"
       ]
      },
      {
       "metadata": {},
       "output_type": "display_data",
       "png": "[encoded data removed]",
       "text": [
        "<matplotlib.figure.Figure at 0x7f6d5965c1d0>"
       ]
      }
     ],
     "prompt_number": 12
    },
    {
     "cell_type": "markdown",
     "metadata": {},
     "source": [
      "####Unigram Counts with SVM"
     ]
    },
    {
     "cell_type": "code",
     "collapsed": false,
     "input": [
      "from sklearn.svm import LinearSVC\n",
      "unigram_linsvm = LinearSVC()"
     ],
     "language": "python",
     "metadata": {},
     "outputs": [],
     "prompt_number": 13
    },
    {
     "cell_type": "code",
     "collapsed": false,
     "input": [
      "accuracy_list = []\n",
      "\n",
      "for i in range(6):\n",
      "    \n",
      "    # Vectorize respective corpus\n",
      "    unigram_count_vectorizer = CountVectorizer()\n",
      "    train_X = unigram_count_vectorizer.fit_transform(train_set_list[i].data)\n",
      "    train_y = train_set_list[i].target\n",
      "    test_X = unigram_count_vectorizer.transform(test_set_list[i].data)\n",
      "    test_y = test_set_list[i].target\n",
      "    \n",
      "    # Run classifier\n",
      "    print(\"Classifying corpus {0}\".format(corpuslist[i]['path']))\n",
      "    predict_y = classify(unigram_linsvm)\n",
      "    accuracy_list.append(accuracy())"
     ],
     "language": "python",
     "metadata": {},
     "outputs": [
      {
       "output_type": "stream",
       "stream": "stdout",
       "text": [
        "Classifying corpus ../data/movies-english-50/\n",
        "Accuracy: 68.0%\n",
        "             precision    recall  f1-score   support\n",
        "\n",
        "        neg       0.65      0.80      0.71        25\n",
        "        pos       0.74      0.56      0.64        25\n",
        "\n",
        "avg / total       0.69      0.68      0.68        50\n",
        "\n",
        "Classifying corpus ../data/movies-english-100/"
       ]
      },
      {
       "output_type": "stream",
       "stream": "stdout",
       "text": [
        "\n",
        "Accuracy: 60.0%\n",
        "             precision    recall  f1-score   support\n",
        "\n",
        "        neg       0.57      0.82      0.67        50\n",
        "        pos       0.68      0.38      0.49        50\n",
        "\n",
        "avg / total       0.62      0.60      0.58       100\n",
        "\n",
        "Classifying corpus ../data/movies-english-200/"
       ]
      },
      {
       "output_type": "stream",
       "stream": "stdout",
       "text": [
        "\n",
        "Accuracy: 64.0%"
       ]
      },
      {
       "output_type": "stream",
       "stream": "stdout",
       "text": [
        "\n",
        "             precision    recall  f1-score   support\n",
        "\n",
        "        neg       0.62      0.71      0.66       100\n",
        "        pos       0.66      0.57      0.61       100\n",
        "\n",
        "avg / total       0.64      0.64      0.64       200\n",
        "\n",
        "Classifying corpus ../data/movies-english-400/"
       ]
      },
      {
       "output_type": "stream",
       "stream": "stdout",
       "text": [
        "\n",
        "Accuracy: 70.75%"
       ]
      },
      {
       "output_type": "stream",
       "stream": "stdout",
       "text": [
        "\n",
        "             precision    recall  f1-score   support\n",
        "\n",
        "        neg       0.70      0.72      0.71       200\n",
        "        pos       0.71      0.69      0.70       200\n",
        "\n",
        "avg / total       0.71      0.71      0.71       400\n",
        "\n",
        "Classifying corpus ../data/movies-english/"
       ]
      },
      {
       "output_type": "stream",
       "stream": "stdout",
       "text": [
        "\n",
        "Accuracy: 78.8%"
       ]
      },
      {
       "output_type": "stream",
       "stream": "stdout",
       "text": [
        "\n",
        "             precision    recall  f1-score   support\n",
        "\n",
        "        neg       0.76      0.85      0.80       500\n",
        "        pos       0.83      0.72      0.77       500\n",
        "\n",
        "avg / total       0.79      0.79      0.79      1000\n",
        "\n",
        "Classifying corpus ../data/movies-english-full/"
       ]
      },
      {
       "output_type": "stream",
       "stream": "stdout",
       "text": [
        "\n",
        "Accuracy: 84.592%"
       ]
      },
      {
       "output_type": "stream",
       "stream": "stdout",
       "text": [
        "\n",
        "             precision    recall  f1-score   support\n",
        "\n",
        "        neg       0.84      0.86      0.85      6250\n",
        "        pos       0.85      0.84      0.84      6250\n",
        "\n",
        "avg / total       0.85      0.85      0.85     12500\n",
        "\n"
       ]
      }
     ],
     "prompt_number": 14
    },
    {
     "cell_type": "code",
     "collapsed": false,
     "input": [
      "plot(size_list, accuracy_list)\n",
      "xscale('log')\n",
      "xlim([0, 25000])\n",
      "xlabel('Corpus Size (No of training documents)')\n",
      "ylabel('Accuracy (%)')\n",
      "title('SVM Classifier Accuracy vs. Corpus Size for Unigram Counts')"
     ],
     "language": "python",
     "metadata": {},
     "outputs": [
      {
       "metadata": {},
       "output_type": "pyout",
       "prompt_number": 15,
       "text": [
        "<matplotlib.text.Text at 0x7f6d5973d8d0>"
       ]
      },
      {
       "metadata": {},
       "output_type": "display_data",
       "png": "[encoded data removed]",
       "text": [
        "<matplotlib.figure.Figure at 0x7f6d7d2e3a50>"
       ]
      }
     ],
     "prompt_number": 15
    },
    {
     "cell_type": "markdown",
     "metadata": {},
     "source": [
      "####Bigram Presence with SVM"
     ]
    },
    {
     "cell_type": "code",
     "collapsed": false,
     "input": [
      "from sklearn.svm import LinearSVC\n",
      "bigram_linsvm = LinearSVC()"
     ],
     "language": "python",
     "metadata": {},
     "outputs": [],
     "prompt_number": 16
    },
    {
     "cell_type": "code",
     "collapsed": false,
     "input": [
      "accuracy_list = []\n",
      "\n",
      "for i in range(6):\n",
      "    \n",
      "    # Vectorize respective corpus\n",
      "    bigram_presence_vectorizer = CountVectorizer(binary=True, ngram_range=(2,2))\n",
      "    train_X = bigram_presence_vectorizer.fit_transform(train_set_list[i].data)\n",
      "    train_y = train_set_list[i].target\n",
      "    test_X = bigram_presence_vectorizer.transform(test_set_list[i].data)\n",
      "    test_y = test_set_list[i].target\n",
      "    \n",
      "    # Run classifier\n",
      "    print(\"Classifying corpus {0}\".format(corpuslist[i]['path']))\n",
      "    predict_y = classify(bigram_linsvm)\n",
      "    accuracy_list.append(accuracy())"
     ],
     "language": "python",
     "metadata": {},
     "outputs": [
      {
       "output_type": "stream",
       "stream": "stdout",
       "text": [
        "Classifying corpus ../data/movies-english-50/\n",
        "Accuracy: 70.0%\n",
        "             precision    recall  f1-score   support\n",
        "\n",
        "        neg       0.65      0.88      0.75        25\n",
        "        pos       0.81      0.52      0.63        25\n",
        "\n",
        "avg / total       0.73      0.70      0.69        50\n",
        "\n",
        "Classifying corpus ../data/movies-english-100/"
       ]
      },
      {
       "output_type": "stream",
       "stream": "stdout",
       "text": [
        "\n",
        "Accuracy: 63.0%\n",
        "             precision    recall  f1-score   support\n",
        "\n",
        "        neg       0.60      0.76      0.67        50\n",
        "        pos       0.68      0.50      0.57        50\n",
        "\n",
        "avg / total       0.64      0.63      0.62       100\n",
        "\n",
        "Classifying corpus ../data/movies-english-200/"
       ]
      },
      {
       "output_type": "stream",
       "stream": "stdout",
       "text": [
        "\n",
        "Accuracy: 67.0%\n",
        "             precision    recall  f1-score   support\n",
        "\n",
        "        neg       0.65      0.75      0.69       100\n",
        "        pos       0.70      0.59      0.64       100\n",
        "\n",
        "avg / total       0.67      0.67      0.67       200\n",
        "\n",
        "Classifying corpus ../data/movies-english-400/"
       ]
      },
      {
       "output_type": "stream",
       "stream": "stdout",
       "text": [
        "\n",
        "Accuracy: 72.25%"
       ]
      },
      {
       "output_type": "stream",
       "stream": "stdout",
       "text": [
        "\n",
        "             precision    recall  f1-score   support\n",
        "\n",
        "        neg       0.73      0.71      0.72       200\n",
        "        pos       0.72      0.73      0.72       200\n",
        "\n",
        "avg / total       0.72      0.72      0.72       400\n",
        "\n",
        "Classifying corpus ../data/movies-english/"
       ]
      },
      {
       "output_type": "stream",
       "stream": "stdout",
       "text": [
        "\n",
        "Accuracy: 80.2%"
       ]
      },
      {
       "output_type": "stream",
       "stream": "stdout",
       "text": [
        "\n",
        "             precision    recall  f1-score   support\n",
        "\n",
        "        neg       0.79      0.83      0.81       500\n",
        "        pos       0.82      0.77      0.80       500\n",
        "\n",
        "avg / total       0.80      0.80      0.80      1000\n",
        "\n",
        "Classifying corpus ../data/movies-english-full/"
       ]
      },
      {
       "output_type": "stream",
       "stream": "stdout",
       "text": [
        "\n",
        "Accuracy: 87.912%"
       ]
      },
      {
       "output_type": "stream",
       "stream": "stdout",
       "text": [
        "\n",
        "             precision    recall  f1-score   support\n",
        "\n",
        "        neg       0.89      0.87      0.88      6250\n",
        "        pos       0.87      0.89      0.88      6250\n",
        "\n",
        "avg / total       0.88      0.88      0.88     12500\n",
        "\n"
       ]
      }
     ],
     "prompt_number": 17
    },
    {
     "cell_type": "code",
     "collapsed": false,
     "input": [
      "plot(size_list, accuracy_list)\n",
      "xscale('log')\n",
      "xlim([0, 25000])\n",
      "xlabel('Corpus Size (No of training documents)')\n",
      "ylabel('Accuracy (%)')\n",
      "title('SVM Classifier Accuracy vs. Corpus Size for Bigram Presence')"
     ],
     "language": "python",
     "metadata": {},
     "outputs": [
      {
       "metadata": {},
       "output_type": "pyout",
       "prompt_number": 18,
       "text": [
        "<matplotlib.text.Text at 0x7f6d56ce19d0>"
       ]
      },
      {
       "metadata": {},
       "output_type": "display_data",
       "png": "[encoded data removed]",
       "text": [
        "<matplotlib.figure.Figure at 0x7f6d5733be50>"
       ]
      }
     ],
     "prompt_number": 18
    },
    {
     "cell_type": "markdown",
     "metadata": {},
     "source": [
      "####Bigram Counts with Naive Bayes"
     ]
    },
    {
     "cell_type": "code",
     "collapsed": false,
     "input": [
      "from sklearn.naive_bayes import MultinomialNB\n",
      "bigram_nb = MultinomialNB()"
     ],
     "language": "python",
     "metadata": {},
     "outputs": [],
     "prompt_number": 19
    },
    {
     "cell_type": "code",
     "collapsed": false,
     "input": [
      "accuracy_list = []\n",
      "\n",
      "for i in range(6):\n",
      "    \n",
      "    # Vectorize respective corpus\n",
      "    bigram_counts_vectorizer = CountVectorizer(ngram_range=(2,2))\n",
      "    train_X = bigram_counts_vectorizer.fit_transform(train_set_list[i].data)\n",
      "    train_y = train_set_list[i].target\n",
      "    test_X = bigram_counts_vectorizer.transform(test_set_list[i].data)\n",
      "    test_y = test_set_list[i].target\n",
      "    \n",
      "    # Run classifier\n",
      "    print(\"Classifying corpus {0}\".format(corpuslist[i]['path']))\n",
      "    predict_y = classify(bigram_nb)\n",
      "    accuracy_list.append(accuracy())"
     ],
     "language": "python",
     "metadata": {},
     "outputs": [
      {
       "output_type": "stream",
       "stream": "stdout",
       "text": [
        "Classifying corpus ../data/movies-english-50/\n",
        "Accuracy: 70.0%\n",
        "             precision    recall  f1-score   support\n",
        "\n",
        "        neg       0.64      0.92      0.75        25\n",
        "        pos       0.86      0.48      0.62        25\n",
        "\n",
        "avg / total       0.75      0.70      0.68        50\n",
        "\n",
        "Classifying corpus ../data/movies-english-100/"
       ]
      },
      {
       "output_type": "stream",
       "stream": "stdout",
       "text": [
        "\n",
        "Accuracy: 61.0%\n",
        "             precision    recall  f1-score   support\n",
        "\n",
        "        neg       0.57      0.88      0.69        50\n",
        "        pos       0.74      0.34      0.47        50\n",
        "\n",
        "avg / total       0.66      0.61      0.58       100\n",
        "\n",
        "Classifying corpus ../data/movies-english-200/"
       ]
      },
      {
       "output_type": "stream",
       "stream": "stdout",
       "text": [
        "\n",
        "Accuracy: 64.5%\n",
        "             precision    recall  f1-score   support\n",
        "\n",
        "        neg       0.61      0.82      0.70       100\n",
        "        pos       0.72      0.47      0.57       100\n",
        "\n",
        "avg / total       0.67      0.65      0.63       200\n",
        "\n",
        "Classifying corpus ../data/movies-english-400/"
       ]
      },
      {
       "output_type": "stream",
       "stream": "stdout",
       "text": [
        "\n",
        "Accuracy: 69.0%"
       ]
      },
      {
       "output_type": "stream",
       "stream": "stdout",
       "text": [
        "\n",
        "             precision    recall  f1-score   support\n",
        "\n",
        "        neg       0.64      0.86      0.74       200\n",
        "        pos       0.79      0.52      0.63       200\n",
        "\n",
        "avg / total       0.71      0.69      0.68       400\n",
        "\n",
        "Classifying corpus ../data/movies-english/"
       ]
      },
      {
       "output_type": "stream",
       "stream": "stdout",
       "text": [
        "\n",
        "Accuracy: 81.2%"
       ]
      },
      {
       "output_type": "stream",
       "stream": "stdout",
       "text": [
        "\n",
        "             precision    recall  f1-score   support\n",
        "\n",
        "        neg       0.78      0.86      0.82       500\n",
        "        pos       0.85      0.76      0.80       500\n",
        "\n",
        "avg / total       0.81      0.81      0.81      1000\n",
        "\n",
        "Classifying corpus ../data/movies-english-full/"
       ]
      },
      {
       "output_type": "stream",
       "stream": "stdout",
       "text": [
        "\n",
        "Accuracy: 86.816%"
       ]
      },
      {
       "output_type": "stream",
       "stream": "stdout",
       "text": [
        "\n",
        "             precision    recall  f1-score   support\n",
        "\n",
        "        neg       0.85      0.90      0.87      6250\n",
        "        pos       0.89      0.84      0.86      6250\n",
        "\n",
        "avg / total       0.87      0.87      0.87     12500\n",
        "\n"
       ]
      }
     ],
     "prompt_number": 20
    },
    {
     "cell_type": "code",
     "collapsed": false,
     "input": [
      "plot(size_list, accuracy_list)\n",
      "xscale('log')\n",
      "xlim([0, 25000])\n",
      "xlabel('Corpus Size (No of training documents)')\n",
      "ylabel('Accuracy (%)')\n",
      "title('Naive Bayes Classifier Accuracy vs. Corpus Size for Bigram Counts')"
     ],
     "language": "python",
     "metadata": {},
     "outputs": [
      {
       "metadata": {},
       "output_type": "pyout",
       "prompt_number": 21,
       "text": [
        "<matplotlib.text.Text at 0x7f6d5393cad0>"
       ]
      },
      {
       "metadata": {},
       "output_type": "display_data",
       "png": "[encoded data removed]",
       "text": [
        "<matplotlib.figure.Figure at 0x7f6d56999a90>"
       ]
      }
     ],
     "prompt_number": 21
    },
    {
     "cell_type": "markdown",
     "metadata": {},
     "source": [
      "###Removing Stop Words\n",
      "\n",
      "In this test, we remove the stop words in the documents and observe how the accuracy is affected. The default `movies-english` corpus is used for this (and all subsequent) tests."
     ]
    },
    {
     "cell_type": "markdown",
     "metadata": {},
     "source": [
      "####Unigram Presence with SVM"
     ]
    },
    {
     "cell_type": "markdown",
     "metadata": {},
     "source": [
      "Setting up the Vectorizer:"
     ]
    },
    {
     "cell_type": "code",
     "collapsed": false,
     "input": [
      "# Create the vectorizer\n",
      "unigram_presence_vectorizer = CountVectorizer(binary=True, stop_words='english')\n",
      "\n",
      "# Fit training data and transform appropriately\n",
      "train_X = unigram_presence_vectorizer.fit_transform(train_set.data)\n",
      "train_y = train_set.target\n",
      "\n",
      "# Transform test data according to learnt training vocabulary\n",
      "test_X = unigram_presence_vectorizer.transform(test_set.data)\n",
      "test_y = test_set.target"
     ],
     "language": "python",
     "metadata": {},
     "outputs": [],
     "prompt_number": 22
    },
    {
     "cell_type": "code",
     "collapsed": false,
     "input": [
      "print(\"The list of {0} stop words is:\\n{1}\".format(len(unigram_presence_vectorizer.get_stop_words()), unigram_presence_vectorizer.get_stop_words()))\n",
      "\n",
      "print(\"Length of feature vector: {0}\".format(train_X.shape[1]))"
     ],
     "language": "python",
     "metadata": {},
     "outputs": [
      {
       "output_type": "stream",
       "stream": "stdout",
       "text": [
        "The list of 318 stop words is:\n",
        "frozenset({'than', 'de', 'you', 'cannot', 'least', 'therefore', 'been', 'your', 'elsewhere', 'fify', 'herein', 'these', 'no', 'along', 'find', 'alone', 'yourselves', 'such', 'more', 'until', 'sixty', 'others', 'done', 'twenty', 'seeming', 'detail', 'somewhere', 'twelve', 'whom', 'system', 'often', 'down', 'put', 'describe', 'beside', 'side', 'have', 'nowhere', 'only', 'without', 'onto', 'themselves', 'co', 'to', 'etc', 'too', 'serious', 'but', 'latterly', 'same', 'keep', 'either', 'never', 'eight', 'part', 'for', 'seems', 'his', 'could', 'so', 'toward', 'among', 'amongst', 'yourself', 'through', 'during', 'against', 'out', 'nothing', 'our', 'all', 'do', 'always', 'whereafter', 'bottom', 'beforehand', 'else', 'four', 'other', 'anyhow', 'under', 'while', 'two', 'thus', 'cry', 'us', 'hasnt', 'latter', 'beyond', 'whoever', 'whatever', 'another', 'every', 'forty', 'who', 'whereby', 'my', 'thereafter', 'something', 'get', 'as', 'nobody', 'those', 'at', 'whereupon', 'itself', 'once', 'from', 'indeed', 'none', 'became', 'ltd', 'whether', 'were', 'therein', 'am', 'is', 'over', 'an', 'whereas', 'himself', 'them', 'interest', 'meanwhile', 'fire', 'anything', 'hereafter', 'couldnt', 'also', 'it', 'wherever', 'ours', 'whence', 'after', 'give', 'ie', 'anyway', 'yet', 'if', 'now', 'not', 'any', 'nor', 'across', 'thereupon', 'should', 'take', 'seemed', 'via', 'found', 'very', 'still', 'i', 'less', 'above', 'they', 'otherwise', 'upon', 'except', 'a', 'that', 'and', 'there', 'some', 'herself', 'further', 'move', 'call', 'whenever', 'into', 'in', 'be', 'we', 'mostly', 'by', 'must', 'may', 'then', 'whither', 'again', 'thick', 'wherein', 'sometime', 'about', 'somehow', 'myself', 'anywhere', 'mine', 'can', 'see', 'many', 'hence', 'both', 'becomes', 'go', 'has', 'last', 'yours', 'show', 'cant', 'formerly', 'much', 'sincere', 'afterwards', 're', 'of', 'on', 'the', 'thereby', 'enough', 'which', 'around', 'sometimes', 'besides', 'or', 'front', 'one', 'would', 'throughout', 'their', 'rather', 'full', 'this', 'third', 'here', 'will', 'already', 'perhaps', 'however', 'whose', 'hundred', 'had', 'well', 'former', 'because', 'off', 'each', 'hers', 'everywhere', 'although', 'own', 'him', 'below', 'between', 'bill', 'neither', 'un', 'whole', 'first', 'amoungst', 'ourselves', 'almost', 'please', 'though', 'empty', 'being', 'fill', 'fifteen', 'moreover', 'top', 'eleven', 'due', 'up', 'namely', 'he', 'thin', 'several', 'thence', 'nevertheless', 'nine', 'mill', 'thru', 'back', 'her', 'towards', 'anyone', 'since', 'eg', 'three', 'when', 'within', 'everyone', 'me', 'before', 'con', 'seem', 'inc', 'might', 'hereupon', 'most', 'few', 'next', 'become', 'made', 'everything', 'becoming', 'name', 'six', 'five', 'amount', 'what', 'why', 'even', 'someone', 'are', 'she', 'noone', 'was', 'together', 'ten', 'with', 'where', 'how', 'per', 'behind', 'hereby', 'ever', 'its'})\n",
        "Length of feature vector: 23949\n"
       ]
      }
     ],
     "prompt_number": 23
    },
    {
     "cell_type": "code",
     "collapsed": false,
     "input": [
      "from sklearn.svm import LinearSVC\n",
      "\n",
      "unigram_linsvm = LinearSVC()\n",
      "predict_y = classify(unigram_linsvm)"
     ],
     "language": "python",
     "metadata": {},
     "outputs": [],
     "prompt_number": 24
    },
    {
     "cell_type": "code",
     "collapsed": false,
     "input": [
      "unigram_presence_linsvm_accuracy = accuracy()"
     ],
     "language": "python",
     "metadata": {},
     "outputs": [
      {
       "output_type": "stream",
       "stream": "stdout",
       "text": [
        "Accuracy: 79.5%\n",
        "             precision    recall  f1-score   support\n",
        "\n",
        "        neg       0.77      0.84      0.80       500\n",
        "        pos       0.83      0.75      0.78       500\n",
        "\n",
        "avg / total       0.80      0.80      0.79      1000\n",
        "\n"
       ]
      }
     ],
     "prompt_number": 25
    },
    {
     "cell_type": "markdown",
     "metadata": {},
     "source": [
      "As a result, for SVM with Unigram Presence, the accuracy remains largely unchanged even after removing the stop words (79.8% vs. 79.5%)."
     ]
    },
    {
     "cell_type": "markdown",
     "metadata": {},
     "source": [
      "####Unigram Counts with SVM"
     ]
    },
    {
     "cell_type": "markdown",
     "metadata": {},
     "source": [
      "Setting up the vectorizer:"
     ]
    },
    {
     "cell_type": "code",
     "collapsed": false,
     "input": [
      "# Create the vectorizer\n",
      "unigram_counts_vectorizer = CountVectorizer(stop_words='english')\n",
      "\n",
      "# Fit training data and transform appropriately\n",
      "train_X = unigram_counts_vectorizer.fit_transform(train_set.data)\n",
      "train_y = train_set.target\n",
      "\n",
      "# Transform test data according to learnt training vocabulary\n",
      "test_X = unigram_counts_vectorizer.transform(test_set.data)\n",
      "test_y = test_set.target"
     ],
     "language": "python",
     "metadata": {},
     "outputs": [],
     "prompt_number": 26
    },
    {
     "cell_type": "code",
     "collapsed": false,
     "input": [
      "print(\"Length of feature vector: {0}\".format(train_X.shape[1]))"
     ],
     "language": "python",
     "metadata": {},
     "outputs": [
      {
       "output_type": "stream",
       "stream": "stdout",
       "text": [
        "Length of feature vector: 23949\n"
       ]
      }
     ],
     "prompt_number": 27
    },
    {
     "cell_type": "code",
     "collapsed": false,
     "input": [
      "from sklearn.svm import LinearSVC\n",
      "\n",
      "unigram_linsvm = LinearSVC()\n",
      "predict_y = classify(unigram_linsvm)"
     ],
     "language": "python",
     "metadata": {},
     "outputs": [],
     "prompt_number": 28
    },
    {
     "cell_type": "code",
     "collapsed": false,
     "input": [
      "unigram_count_linsvm_accuracy = accuracy()"
     ],
     "language": "python",
     "metadata": {},
     "outputs": [
      {
       "output_type": "stream",
       "stream": "stdout",
       "text": [
        "Accuracy: 78.2%\n",
        "             precision    recall  f1-score   support\n",
        "\n",
        "        neg       0.75      0.85      0.80       500\n",
        "        pos       0.83      0.71      0.77       500\n",
        "\n",
        "avg / total       0.79      0.78      0.78      1000\n",
        "\n"
       ]
      }
     ],
     "prompt_number": 29
    },
    {
     "cell_type": "markdown",
     "metadata": {},
     "source": [
      "The result for Unigram Counts is similar to Unigram Presence. Removal of stop words does not affect the accuracy (78.8% vs. 78.2%). In fact there is a slight *decrease*."
     ]
    },
    {
     "cell_type": "markdown",
     "metadata": {},
     "source": [
      "####Bigram Presence with SVM"
     ]
    },
    {
     "cell_type": "markdown",
     "metadata": {},
     "source": [
      "Setting up the vectorizer:"
     ]
    },
    {
     "cell_type": "code",
     "collapsed": false,
     "input": [
      "# Create the vectorizer\n",
      "bigram_presence_vectorizer = CountVectorizer(binary=True, ngram_range=(2,2), stop_words='english')\n",
      "\n",
      "# Fit training data and transform appropriately\n",
      "train_X = bigram_presence_vectorizer.fit_transform(train_set.data)\n",
      "train_y = train_set.target\n",
      "\n",
      "# Transform test data according to learnt training vocabulary\n",
      "test_X = bigram_presence_vectorizer.transform(test_set.data)\n",
      "test_y = test_set.target"
     ],
     "language": "python",
     "metadata": {},
     "outputs": [],
     "prompt_number": 30
    },
    {
     "cell_type": "code",
     "collapsed": false,
     "input": [
      "print(\"Length of feature vector: {0}\".format(train_X.shape[1]))"
     ],
     "language": "python",
     "metadata": {},
     "outputs": [
      {
       "output_type": "stream",
       "stream": "stdout",
       "text": [
        "Length of feature vector: 181110\n"
       ]
      }
     ],
     "prompt_number": 31
    },
    {
     "cell_type": "code",
     "collapsed": false,
     "input": [
      "from sklearn.svm import LinearSVC\n",
      "\n",
      "bigram_linsvm = LinearSVC()\n",
      "predict_y = classify(bigram_linsvm)"
     ],
     "language": "python",
     "metadata": {},
     "outputs": [],
     "prompt_number": 32
    },
    {
     "cell_type": "code",
     "collapsed": false,
     "input": [
      "bigram_presence_linsvm_accuracy = accuracy()"
     ],
     "language": "python",
     "metadata": {},
     "outputs": [
      {
       "output_type": "stream",
       "stream": "stdout",
       "text": [
        "Accuracy: 70.89999999999999%\n",
        "             precision    recall  f1-score   support\n",
        "\n",
        "        neg       0.67      0.82      0.74       500\n",
        "        pos       0.77      0.60      0.67       500\n",
        "\n",
        "avg / total       0.72      0.71      0.71      1000\n",
        "\n"
       ]
      }
     ],
     "prompt_number": 33
    },
    {
     "cell_type": "markdown",
     "metadata": {},
     "source": [
      "This is a major reduction in accuracy of the order of 10% (80.2% vs. 70.9%). This suggests that stopwords are vital for bigram feature vectors."
     ]
    },
    {
     "cell_type": "markdown",
     "metadata": {},
     "source": [
      "####Bigram Counts with Naive Bayes"
     ]
    },
    {
     "cell_type": "markdown",
     "metadata": {},
     "source": [
      "Setting up the vectorizer:"
     ]
    },
    {
     "cell_type": "code",
     "collapsed": false,
     "input": [
      "# Create the vectorizer\n",
      "bigram_count_vectorizer = CountVectorizer(ngram_range=(2,2), stop_words='english')\n",
      "\n",
      "# Fit training data and transform appropriately\n",
      "train_X = bigram_count_vectorizer.fit_transform(train_set.data)\n",
      "train_y = train_set.target\n",
      "\n",
      "# Transform test data according to learnt training vocabulary\n",
      "test_X = bigram_count_vectorizer.transform(test_set.data)\n",
      "test_y = test_set.target"
     ],
     "language": "python",
     "metadata": {},
     "outputs": [],
     "prompt_number": 34
    },
    {
     "cell_type": "code",
     "collapsed": false,
     "input": [
      "from sklearn.naive_bayes import MultinomialNB\n",
      "\n",
      "bigram_nb = MultinomialNB()\n",
      "predict_y = classify(bigram_nb)"
     ],
     "language": "python",
     "metadata": {},
     "outputs": [],
     "prompt_number": 35
    },
    {
     "cell_type": "code",
     "collapsed": false,
     "input": [
      "bigram_counts_nb_accuracy = accuracy()"
     ],
     "language": "python",
     "metadata": {},
     "outputs": [
      {
       "output_type": "stream",
       "stream": "stdout",
       "text": [
        "Accuracy: 71.89999999999999%\n",
        "             precision    recall  f1-score   support\n",
        "\n",
        "        neg       0.68      0.84      0.75       500\n",
        "        pos       0.79      0.59      0.68       500\n",
        "\n",
        "avg / total       0.73      0.72      0.71      1000\n",
        "\n"
       ]
      }
     ],
     "prompt_number": 36
    },
    {
     "cell_type": "markdown",
     "metadata": {},
     "source": [
      "The reduction for counts is also on the order of 10% (81.2% vs. 71.9%). Thus we conclude that stopwords are extremely important for bigram features and should *not* be removed."
     ]
    }
   ],
   "metadata": {}
  }
 ]
}