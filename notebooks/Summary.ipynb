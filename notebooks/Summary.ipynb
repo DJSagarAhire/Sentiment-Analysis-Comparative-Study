{
 "metadata": {
  "name": "Summary"
 },
 "nbformat": 3,
 "nbformat_minor": 0,
 "worksheets": [
  {
   "cells": [
    {
     "cell_type": "markdown",
     "metadata": {},
     "source": [
      "#Machine Learning Techniques for Sentiment Analysis\n",
      "\n",
      "This is a comparative study of various machine learning algorithms for sentiment analysis, with different feature sets. This includes both classification and clustering algorithms.\n",
      "\n",
      "###Dataset\n",
      "\n",
      "The dataset used is a random selection of movie reviews from the [Large Movie Review Dataset](http://ai.stanford.edu/~amaas/data/sentiment/). The selection consists of:\n",
      "<ul>\n",
      "    <li> 2000 training reviews (1000 positive, 1000 negative) </li>\n",
      "    <li> 1000 testing reviews (500 positive, 500 negative) </li>\n",
      "</ul>\n",
      "\n",
      "The code outlined below, however, aims to be adaptable to any binary classification dataset.\n",
      "\n",
      "###Algorithms Covered\n",
      "\n",
      "####A: Classification\n",
      "\n",
      "The following classification algorithms are studied for this project:\n",
      "<ul>\n",
      "    <li>K-Nearest Neighbours</li>\n",
      "    <li>Naive Bayes</li>\n",
      "    <li>Perceptron</li>\n",
      "    <li>Decision Tree</li>\n",
      "</ul>\n",
      "\n",
      "####B: Clustering\n",
      "\n",
      "Clustering algorithms are pending.\n",
      "\n",
      "###Features Covered\n",
      "\n",
      "The following features are studied for this project:\n",
      "<ul>\n",
      "    <li>Unigram Presence</li>\n",
      "</ul>"
     ]
    },
    {
     "cell_type": "markdown",
     "metadata": {},
     "source": [
      "##Organization of this Report\n",
      "\n",
      "This report is built out of ipython notebooks. Notebooks are divided by features considered. Each notebook uses several classifiers on the data and compares them. The overall final results can be found at the end of this notebook (pending).\n",
      "\n",
      "The following are the notebooks:\n",
      "\n",
      "<ol>\n",
      "    <li><code>Classification-Unigram-Presence</code></li>\n",
      "</ol>"
     ]
    }
   ],
   "metadata": {}
  }
 ]
}